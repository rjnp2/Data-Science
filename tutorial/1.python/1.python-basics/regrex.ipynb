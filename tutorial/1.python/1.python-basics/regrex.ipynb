{
 "cells": [
  {
   "cell_type": "markdown",
   "id": "under-print",
   "metadata": {},
   "source": [
    "## re — Regular expression operations\n",
    "\n",
    "### Matching Characters\n",
    "\n",
    "    . ^ $ * + ? { } [ ] \\ | ( )\n",
    "\n",
    "    [ and ]\n",
    "\n",
    "    separating them by a '-'\n",
    "    \n",
    "    "
   ]
  },
  {
   "cell_type": "code",
   "execution_count": 2,
   "id": "documentary-prairie",
   "metadata": {},
   "outputs": [
    {
     "data": {
      "text/plain": [
       "<re.Match object; span=(0, 17), match='The rain in Spain'>"
      ]
     },
     "execution_count": 2,
     "metadata": {},
     "output_type": "execute_result"
    }
   ],
   "source": [
    "import re\n",
    "\n",
    "txt = \"The rain in Spain\"\n",
    "x = re.search(\"^The.*Spain$\", txt)\n",
    "x"
   ]
  },
  {
   "cell_type": "code",
   "execution_count": 3,
   "id": "regulation-reducing",
   "metadata": {},
   "outputs": [
    {
     "data": {
      "text/plain": [
       "['h', 'e', 'a', 'i', 'i', 'a', 'i']"
      ]
     },
     "execution_count": 3,
     "metadata": {},
     "output_type": "execute_result"
    }
   ],
   "source": [
    "txt = \"The rain in spain\"\n",
    "\n",
    "# find all lower case character alphabetically between 'a' and 'm'\n",
    "\n",
    "x = re.findall(\"[a-m]\",txt)\n",
    "x"
   ]
  },
  {
   "cell_type": "code",
   "execution_count": 11,
   "id": "reliable-biotechnology",
   "metadata": {},
   "outputs": [
    {
     "name": "stdout",
     "output_type": "stream",
     "text": [
      "['T', 'h', 'a', 't', ' ', 'w', 'i', 'l', 'l', ' ', 'b', 'e', ' ', ' ', 'd', 'o', 'l', 'l', 'a', 'r']\n",
      "\n",
      "\n",
      "['5', '9']\n",
      "\n",
      "\n",
      "['T', 'h', 'a', 't', 'w', 'i', 'l', 'l', 'b', 'e', '5', '9', 'd', 'o', 'l', 'l', 'a', 'r']\n",
      "\n",
      "\n",
      "[' ', ' ', ' ', ' ']\n"
     ]
    }
   ],
   "source": [
    "txt = \"That will be 59 dollar\"\n",
    "\n",
    "# find all digit characters:\n",
    "\n",
    "print(re.findall(\"\\D\", txt))\n",
    "print('\\n')\n",
    "print(re.findall(\"\\d\", txt))\n",
    "print('\\n')\n",
    "print(re.findall(\"\\w\", txt))\n",
    "print('\\n')\n",
    "print(re.findall(\"\\W\", txt))"
   ]
  },
  {
   "cell_type": "code",
   "execution_count": 19,
   "id": "swedish-criticism",
   "metadata": {},
   "outputs": [
    {
     "name": "stdout",
     "output_type": "stream",
     "text": [
      "['ain', 'ain']\n",
      "\n",
      "\n",
      "[]\n",
      "\n",
      "\n",
      "[' ', ' ', ' ']\n",
      "\n",
      "\n",
      "['T', 'h', 'e', 'r', 'a', 'i', 'n', 'i', 'n', 's', 'p', 'a', 'i', 'n']\n"
     ]
    }
   ],
   "source": [
    "txt = \"The rain in spain\"\n",
    "\n",
    "#check if \"ain\" is present at the end of word:\n",
    "\n",
    "print(re.findall(r\"ain\\b\",txt))\n",
    "#check if \"ain\" is present at the start of word:\n",
    "print('\\n')\n",
    "print(re.findall(r\"\\bain\",txt))\n",
    "print('\\n')\n",
    "print(re.findall(\"\\s\",txt))\n",
    "print('\\n')\n",
    "print(re.findall(\"\\S\",txt))"
   ]
  },
  {
   "cell_type": "code",
   "execution_count": 24,
   "id": "tired-broadcasting",
   "metadata": {},
   "outputs": [
    {
     "name": "stdout",
     "output_type": "stream",
     "text": [
      "['r', 'a', 'n', 'n', 'a', 'n']\n",
      "\n",
      "\n",
      "['h', 'e', 'a', 'i', 'n', 'i', 'n', 'a', 'i', 'n']\n",
      "\n",
      "\n",
      "['T', ' ', 'r', ' ', ' ', 's', 'p']\n",
      "\n",
      "\n",
      "['T', 'h', 'e', 'r', 'a', 'i', 'n', 'i', 'n', 's', 'p', 'a', 'i', 'n']\n"
     ]
    }
   ],
   "source": [
    "# check if the string has any a,r or n characters:\n",
    "print(re.findall(\"[arn]\",txt))\n",
    "\n",
    "print('\\n')\n",
    "#check  if the string has any  characters between a and n:\n",
    "print(re.findall(\"[a-n]\",txt))\n",
    "print('\\n')\n",
    "#check  if the string has other characters between a and n:\n",
    "print(re.findall(\"[^a-n]\",txt))\n",
    "print('\\n')\n",
    "#check  if the string has any characters from a to z and A to Z:\n",
    "print(re.findall(\"[a-zA-Z]\",txt))"
   ]
  },
  {
   "cell_type": "code",
   "execution_count": 28,
   "id": "communist-development",
   "metadata": {},
   "outputs": [
    {
     "name": "stdout",
     "output_type": "stream",
     "text": [
      "4\n"
     ]
    }
   ],
   "source": [
    "print(re.search(\"\\s\",txt).end())"
   ]
  },
  {
   "cell_type": "code",
   "execution_count": 29,
   "id": "contrary-cambridge",
   "metadata": {},
   "outputs": [
    {
     "name": "stdout",
     "output_type": "stream",
     "text": [
      "['The', 'rain', 'in', 'spain']\n"
     ]
    }
   ],
   "source": [
    "print(re.split(\"\\s\",txt))"
   ]
  },
  {
   "cell_type": "code",
   "execution_count": null,
   "id": "found-miller",
   "metadata": {},
   "outputs": [],
   "source": []
  }
 ],
 "metadata": {
  "kernelspec": {
   "display_name": "Python 3",
   "language": "python",
   "name": "python3"
  },
  "language_info": {
   "codemirror_mode": {
    "name": "ipython",
    "version": 3
   },
   "file_extension": ".py",
   "mimetype": "text/x-python",
   "name": "python",
   "nbconvert_exporter": "python",
   "pygments_lexer": "ipython3",
   "version": "3.8.5"
  }
 },
 "nbformat": 4,
 "nbformat_minor": 5
}

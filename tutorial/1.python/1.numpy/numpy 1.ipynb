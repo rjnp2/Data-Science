{
 "cells": [
  {
   "attachments": {
    "7cc20ac6-2015-4ca0-9faa-3de8cb07b127.png": {
     "image/png": "[encoded data removed]"
    }
   },
   "cell_type": "markdown",
   "id": "existing-warren",
   "metadata": {},
   "source": [
    "# NumPy\n",
    "\n",
    "1. **Introduction** \\\n",
    "  NumPy is a Python package. It stands for 'Numerical Python'. It is a library consisting of multidimensional array objects and a collection of routines for processing of array.\n",
    "   \n",
    "2. **Operations using NumPy** \\\n",
    "  Using NumPy, a developer can perform the following operations:\n",
    "    - Mathematical and logical operations on arrays.\n",
    "    - Fourier transforms and routines for shape manipulation.\n",
    "    - Operations related to linear algebra. NumPy has in-built functions for linear algebra and random number generation.\n",
    " \n",
    " \n",
    "3. **Environment** \\\n",
    "  Standard Python distribution doesn't come bundled with NumPy module. A lightweight alternative is to install NumPy using popular Python package installer, pip. \n",
    "  \n",
    "   **pip install numpy**\n",
    "       \n",
    "4. **NumPy − ndarray Object** \\\n",
    "  The most important object defined in NumPy is an N-dimensional array type called ndarray. It describes the collection of items of the same type. Items in the collection can be accessed using a zero-based index. \\\n",
    "  Every item in an ndarray takes the same size of block in the memory. Each element in  ndarray is an object of data-type object (called dtype). \\\n",
    "  Any item extracted from ndarray object (by slicing) is represented by a Python object of one of array scalar types. The following diagram shows a relationship between ndarray, data type object (dtype) and array scalar type: \\\n",
    "  ![image.png](attachment:7cc20ac6-2015-4ca0-9faa-3de8cb07b127.png)\n",
    "  \n",
    "  An instance of ndarray class can be constructed by different array creation routines described later in the tutorial. The basic ndarray is created using an array function in NumPy as follows:\n",
    "  \n",
    "         numpy.array\n",
    "         \n",
    "  It creates an ndarray from any object exposing array interface, or from any method that returns an array.\n",
    "      \n",
    "      numpy.array(object, dtype=None, copy=True, order=None, subok=False, ndmin=0)\n",
    "      \n",
    "  The above constructor takes the following parameters:\n",
    "  \n",
    "    - object  =   Any object exposing the array interface method returns an array, or any (nested) sequence\n",
    "    - dtype   =   Desired data type of array, optional\n",
    "    - copy    =   Optional. By default (true), the object is copied\n",
    "    - order   =   C (row major) or F (column major) or A (any) (default)\n",
    "    - subok   =   By default, returned array forced to be a base class array. If true, sub-classes passed through\n",
    "    - ndimin  =   Specifies minimum dimensions of resultant array"
   ]
  },
  {
   "cell_type": "code",
   "execution_count": 53,
   "id": "entitled-stockholm",
   "metadata": {},
   "outputs": [
    {
     "name": "stdout",
     "output_type": "stream",
     "text": [
      "[1 2 3]\n"
     ]
    }
   ],
   "source": [
    "# Example:\n",
    "\n",
    "import numpy as np\n",
    "a=np.array([1,2,3])\n",
    "print(a)"
   ]
  },
  {
   "cell_type": "code",
   "execution_count": 3,
   "id": "ethical-canadian",
   "metadata": {},
   "outputs": [
    {
     "name": "stdout",
     "output_type": "stream",
     "text": [
      "[[1 2]\n",
      " [3 4]]\n"
     ]
    }
   ],
   "source": [
    "# more than one dimensions\n",
    "import numpy as np\n",
    "a = np.array([[1, 2], [3, 4]])\n",
    "print(a)"
   ]
  },
  {
   "cell_type": "code",
   "execution_count": 4,
   "id": "printable-given",
   "metadata": {},
   "outputs": [
    {
     "name": "stdout",
     "output_type": "stream",
     "text": [
      "[[1 2 3 4 5]]\n"
     ]
    }
   ],
   "source": [
    "# minimum dimensions\n",
    "import numpy as np\n",
    "a=np.array([1, 2, 3,4,5], ndmin=2)\n",
    "print(a)"
   ]
  },
  {
   "cell_type": "code",
   "execution_count": 5,
   "id": "iraqi-quarter",
   "metadata": {},
   "outputs": [
    {
     "name": "stdout",
     "output_type": "stream",
     "text": [
      "[1.+0.j 2.+0.j 3.+0.j]\n"
     ]
    }
   ],
   "source": [
    "# dtype parameter\n",
    "import numpy as np\n",
    "a = np.array([1, 2, 3], dtype=complex)\n",
    "print(a)"
   ]
  },
  {
   "cell_type": "markdown",
   "id": "apparent-manor",
   "metadata": {},
   "source": [
    "# 5. NumPy_Array Attributes \n",
    "  ## - **ndarray.shape** \\\n",
    "    This array attribute returns a tuple consisting of array dimensions. It can also be used to resize the array.\n",
    "                      \n",
    "                      BY array.shape"
   ]
  },
  {
   "cell_type": "code",
   "execution_count": 6,
   "id": "sunset-juice",
   "metadata": {},
   "outputs": [
    {
     "name": "stdout",
     "output_type": "stream",
     "text": [
      "(2, 3)\n"
     ]
    }
   ],
   "source": [
    "a=np.array([[1,2,3],[4,5,6]])\n",
    "print(a.shape)"
   ]
  },
  {
   "cell_type": "code",
   "execution_count": 10,
   "id": "olive-alloy",
   "metadata": {},
   "outputs": [
    {
     "name": "stdout",
     "output_type": "stream",
     "text": [
      "[[1 2 3]\n",
      " [4 5 6]]\n",
      "\n",
      " after reshape\n",
      "[[1 2]\n",
      " [3 4]\n",
      " [5 6]]\n"
     ]
    }
   ],
   "source": [
    "# this resizes the ndarray\n",
    "import numpy as np\n",
    "a=np.array([[1,2,3],[4,5,6]])\n",
    "print(a)\n",
    "\n",
    "print('\\nAfter reshape')\n",
    "a.shape=(3,2)\n",
    "print(a)"
   ]
  },
  {
   "cell_type": "markdown",
   "id": "tender-lebanon",
   "metadata": {},
   "source": [
    "## ndarray.ndim\n",
    " This array attribute returns the number of array dimensions.\n",
    "\n",
    "                  BY array.ndim"
   ]
  },
  {
   "cell_type": "code",
   "execution_count": 11,
   "id": "female-friday",
   "metadata": {},
   "outputs": [
    {
     "name": "stdout",
     "output_type": "stream",
     "text": [
      "[ 0  1  2  3  4  5  6  7  8  9 10 11 12 13 14 15 16 17 18 19 20 21 22 23]\n"
     ]
    }
   ],
   "source": [
    "# an array of evenly spaced numbers\n",
    "import numpy as np\n",
    "a = np.arange(24)\n",
    "print(a)"
   ]
  },
  {
   "cell_type": "code",
   "execution_count": 12,
   "id": "invalid-issue",
   "metadata": {},
   "outputs": [
    {
     "data": {
      "text/plain": [
       "1"
      ]
     },
     "execution_count": 12,
     "metadata": {},
     "output_type": "execute_result"
    }
   ],
   "source": [
    "a.ndim"
   ]
  },
  {
   "cell_type": "code",
   "execution_count": 13,
   "id": "electric-sunday",
   "metadata": {},
   "outputs": [
    {
     "name": "stdout",
     "output_type": "stream",
     "text": [
      "[[[ 0  1  2]\n",
      "  [ 3  4  5]\n",
      "  [ 6  7  8]\n",
      "  [ 9 10 11]]\n",
      "\n",
      " [[12 13 14]\n",
      "  [15 16 17]\n",
      "  [18 19 20]\n",
      "  [21 22 23]]]\n"
     ]
    }
   ],
   "source": [
    "# now reshape it\n",
    "b = a.reshape(2,4,3)\n",
    "print(b)\n",
    "# b is having three dimensions"
   ]
  },
  {
   "cell_type": "code",
   "execution_count": 14,
   "id": "advance-transcript",
   "metadata": {},
   "outputs": [
    {
     "data": {
      "text/plain": [
       "3"
      ]
     },
     "execution_count": 14,
     "metadata": {},
     "output_type": "execute_result"
    }
   ],
   "source": [
    "b.ndim"
   ]
  },
  {
   "cell_type": "markdown",
   "id": "packed-valuable",
   "metadata": {},
   "source": [
    "## numpy.itemsize\n",
    " This array attribute returns the length of each element of array in bytes.\n",
    "                      \n",
    "                      BY array.itemsize"
   ]
  },
  {
   "cell_type": "code",
   "execution_count": 15,
   "id": "exceptional-criminal",
   "metadata": {},
   "outputs": [
    {
     "data": {
      "text/plain": [
       "1"
      ]
     },
     "execution_count": 15,
     "metadata": {},
     "output_type": "execute_result"
    }
   ],
   "source": [
    "# dtype of array is int8 (1 byte)\n",
    "import numpy as np\n",
    "x = np.array([1,2,3,4,5], dtype=np.int8)\n",
    "\n",
    "x.itemsize"
   ]
  },
  {
   "cell_type": "code",
   "execution_count": 16,
   "id": "novel-warning",
   "metadata": {},
   "outputs": [
    {
     "data": {
      "text/plain": [
       "4"
      ]
     },
     "execution_count": 16,
     "metadata": {},
     "output_type": "execute_result"
    }
   ],
   "source": [
    "# dtype of array is now float32 (4 bytes)\n",
    "import numpy as np\n",
    "x = np.array([1,2,3,4,5], dtype=np.float32)\n",
    "x.itemsize"
   ]
  },
  {
   "cell_type": "markdown",
   "id": "interpreted-pencil",
   "metadata": {},
   "source": [
    "# 6. **NumPy − Array Creation Routines**\n",
    "## numpy.empty\n",
    "     It creates an uninitialized array of specified shape and dtype. It uses the following constructor:\n",
    "        \n",
    "                      BY numpy.empty(shape, dtype=float, order='C')"
   ]
  },
  {
   "cell_type": "code",
   "execution_count": 18,
   "id": "worst-bulletin",
   "metadata": {},
   "outputs": [
    {
     "data": {
      "text/plain": [
       "array([[1, 2],\n",
       "       [3, 4],\n",
       "       [5, 6]])"
      ]
     },
     "execution_count": 18,
     "metadata": {},
     "output_type": "execute_result"
    }
   ],
   "source": [
    "import numpy as np\n",
    "x = np.empty([3,2], dtype=int)\n",
    "x"
   ]
  },
  {
   "cell_type": "markdown",
   "id": "needed-diving",
   "metadata": {},
   "source": [
    "## numpy.zeros\n",
    "Returns a new array of specified size, filled with zeros.\n",
    "        \n",
    "             BY numpy.zeros(shape, dtype=float, order='C')                 "
   ]
  },
  {
   "cell_type": "code",
   "execution_count": 19,
   "id": "processed-convenience",
   "metadata": {},
   "outputs": [
    {
     "data": {
      "text/plain": [
       "array([0., 0., 0., 0., 0.])"
      ]
     },
     "execution_count": 19,
     "metadata": {},
     "output_type": "execute_result"
    }
   ],
   "source": [
    "# array of five zeros. Default dtype is float\n",
    "import numpy as np\n",
    "x = np.zeros(5)\n",
    "x"
   ]
  },
  {
   "cell_type": "code",
   "execution_count": 20,
   "id": "precious-myanmar",
   "metadata": {},
   "outputs": [
    {
     "data": {
      "text/plain": [
       "array([[0., 0.],\n",
       "       [0., 0.],\n",
       "       [0., 0.],\n",
       "       [0., 0.],\n",
       "       [0., 0.]])"
      ]
     },
     "execution_count": 20,
     "metadata": {},
     "output_type": "execute_result"
    }
   ],
   "source": [
    "x = np.zeros((5,2))\n",
    "x"
   ]
  },
  {
   "cell_type": "markdown",
   "id": "comparative-animal",
   "metadata": {},
   "source": [
    "## numpy.ones\n",
    "Returns a new array of specified size, filled with ones.\n",
    "        \n",
    "              BY numpy.ones(shape, dtype=float, order='C')    "
   ]
  },
  {
   "cell_type": "code",
   "execution_count": 21,
   "id": "italian-swiss",
   "metadata": {},
   "outputs": [
    {
     "data": {
      "text/plain": [
       "array([[1., 1.],\n",
       "       [1., 1.],\n",
       "       [1., 1.],\n",
       "       [1., 1.],\n",
       "       [1., 1.]])"
      ]
     },
     "execution_count": 21,
     "metadata": {},
     "output_type": "execute_result"
    }
   ],
   "source": [
    "x = np.ones((5,2))\n",
    "x"
   ]
  },
  {
   "cell_type": "markdown",
   "id": "liquid-environment",
   "metadata": {},
   "source": [
    "# 7. NumPy − Array from Existing Data\n",
    "# numpy.asarray\n",
    "This function is similar to numpy.array except for the fact that it has fewer parameters. This routine is useful for converting Python sequence into ndarray.\n",
    "                      \n",
    "        BY numpy.asarray(a, dtype=None, order=None)  "
   ]
  },
  {
   "cell_type": "code",
   "execution_count": 23,
   "id": "brief-newark",
   "metadata": {},
   "outputs": [
    {
     "data": {
      "text/plain": [
       "array([1, 2, 3])"
      ]
     },
     "execution_count": 23,
     "metadata": {},
     "output_type": "execute_result"
    }
   ],
   "source": [
    "# convert list to ndarray\n",
    "import numpy as np\n",
    "x = [1,2,3]\n",
    "a = np.asarray(x)\n",
    "\n",
    "a"
   ]
  },
  {
   "cell_type": "markdown",
   "id": "unauthorized-amendment",
   "metadata": {},
   "source": [
    "# 8. NumPy − Array from Numerical Ranges"
   ]
  },
  {
   "cell_type": "markdown",
   "id": "distributed-partnership",
   "metadata": {},
   "source": [
    "## numpy.arange\n",
    "This function returns an ndarray object containing evenly spaced values within a given range. The format of the function is as follows:\n",
    "                      \n",
    "          BY numpy.arange(start, stop, step, dtype)"
   ]
  },
  {
   "cell_type": "code",
   "execution_count": 26,
   "id": "enclosed-tolerance",
   "metadata": {},
   "outputs": [
    {
     "data": {
      "text/plain": [
       "array([0, 1, 2, 3, 4])"
      ]
     },
     "execution_count": 26,
     "metadata": {},
     "output_type": "execute_result"
    }
   ],
   "source": [
    "import numpy as np\n",
    "x = np.arange(5)\n",
    "x"
   ]
  },
  {
   "cell_type": "code",
   "execution_count": 25,
   "id": "middle-smoke",
   "metadata": {},
   "outputs": [
    {
     "data": {
      "text/plain": [
       "array([10, 12, 14, 16, 18])"
      ]
     },
     "execution_count": 25,
     "metadata": {},
     "output_type": "execute_result"
    }
   ],
   "source": [
    "# start and stop parameters set\n",
    "import numpy as np\n",
    "x = np.arange(10,20,2)\n",
    "x"
   ]
  },
  {
   "cell_type": "markdown",
   "id": "conceptual-composer",
   "metadata": {},
   "source": [
    "## numpy.linspace\n",
    "This function is similar to arange() function. In this function, instead of step size, the number of evenly spaced values between the interval is specified.      The usage of this function is as follows:\n",
    "                      \n",
    "                      BY numpy.linspace(start, stop, num, endpoint, retstep, dtype)"
   ]
  },
  {
   "cell_type": "code",
   "execution_count": 27,
   "id": "gorgeous-antigua",
   "metadata": {},
   "outputs": [
    {
     "data": {
      "text/plain": [
       "array([10. , 12.5, 15. , 17.5, 20. ])"
      ]
     },
     "execution_count": 27,
     "metadata": {},
     "output_type": "execute_result"
    }
   ],
   "source": [
    "import numpy as np\n",
    "x = np.linspace(10,20,5)\n",
    "x"
   ]
  },
  {
   "cell_type": "code",
   "execution_count": 28,
   "id": "annual-details",
   "metadata": {},
   "outputs": [
    {
     "data": {
      "text/plain": [
       "array([10., 12., 14., 16., 18.])"
      ]
     },
     "execution_count": 28,
     "metadata": {},
     "output_type": "execute_result"
    }
   ],
   "source": [
    "# endpoint set to false\n",
    "import numpy as np\n",
    "x = np.linspace(10,20, 5, endpoint=False)\n",
    "x"
   ]
  },
  {
   "cell_type": "markdown",
   "id": "fundamental-promise",
   "metadata": {},
   "source": [
    "## numpy.logspace\n",
    "This function returns an ndarray object that contains the numbers that are evenly spaced on a log scale. Start and stop endpoints of the scale are indices of the base, usually 10.\n",
    "                     \n",
    "             BY numpy.logscale(start, stop, num, endpoint, base, dtype)\n",
    "    "
   ]
  },
  {
   "cell_type": "code",
   "execution_count": 29,
   "id": "north-bidding",
   "metadata": {},
   "outputs": [
    {
     "data": {
      "text/plain": [
       "array([ 10.        ,  12.91549665,  16.68100537,  21.5443469 ,\n",
       "        27.82559402,  35.93813664,  46.41588834,  59.94842503,\n",
       "        77.42636827, 100.        ])"
      ]
     },
     "execution_count": 29,
     "metadata": {},
     "output_type": "execute_result"
    }
   ],
   "source": [
    "import numpy as np\n",
    "# default base is 10\n",
    "a = np.logspace(1.0, 2.0, num=10)\n",
    "\n",
    "a"
   ]
  },
  {
   "cell_type": "code",
   "execution_count": 30,
   "id": "incorporate-connection",
   "metadata": {},
   "outputs": [
    {
     "data": {
      "text/plain": [
       "array([   2.,    4.,    8.,   16.,   32.,   64.,  128.,  256.,  512.,\n",
       "       1024.])"
      ]
     },
     "execution_count": 30,
     "metadata": {},
     "output_type": "execute_result"
    }
   ],
   "source": [
    "# set base of log space to 2\n",
    "import numpy as np\n",
    "a = np.logspace(1,10,num=10, base=2)\n",
    "a"
   ]
  },
  {
   "cell_type": "markdown",
   "id": "included-expression",
   "metadata": {},
   "source": [
    "# 9. NumPy − Indexing & Slicing\n",
    "Basic slicing is an extension of Python's basic concept of slicing to n dimensions. A Python\n",
    "slice object is constructed by giving start, stop, and step parameters to the built-in slice\n",
    "function. This slice object is passed to the array to extract a part of array."
   ]
  },
  {
   "cell_type": "code",
   "execution_count": 35,
   "id": "golden-particular",
   "metadata": {},
   "outputs": [
    {
     "data": {
      "text/plain": [
       "array([2, 4, 6])"
      ]
     },
     "execution_count": 35,
     "metadata": {},
     "output_type": "execute_result"
    }
   ],
   "source": [
    "import numpy as np\n",
    "a = np.arange(10)\n",
    "s = slice(2,7,2)\n",
    "\n",
    "a[s]"
   ]
  },
  {
   "cell_type": "code",
   "execution_count": 36,
   "id": "introductory-expansion",
   "metadata": {},
   "outputs": [
    {
     "data": {
      "text/plain": [
       "array([2, 4, 6])"
      ]
     },
     "execution_count": 36,
     "metadata": {},
     "output_type": "execute_result"
    }
   ],
   "source": [
    "import numpy as np\n",
    "a = np.arange(10)\n",
    "b = a[2:7:2]\n",
    "\n",
    "b"
   ]
  },
  {
   "cell_type": "code",
   "execution_count": 38,
   "id": "smart-words",
   "metadata": {},
   "outputs": [
    {
     "name": "stdout",
     "output_type": "stream",
     "text": [
      "[[1 2 3]\n",
      " [3 4 5]\n",
      " [4 5 6]]\n",
      "Now we will slice the array from the index a[1:]\n",
      "[[3 4 5]\n",
      " [4 5 6]]\n"
     ]
    }
   ],
   "source": [
    "import numpy as np\n",
    "a = np.array([[1,2,3],[3,4,5],[4,5,6]])\n",
    "print(a)\n",
    "\n",
    "# slice items starting from index\n",
    "\n",
    "print('Now we will slice the array from the index a[1:]')\n",
    "print(a[1:])"
   ]
  },
  {
   "cell_type": "markdown",
   "id": "billion-questionnaire",
   "metadata": {},
   "source": [
    "# 10. NumPy − Advanced Indexing\n",
    "\n",
    "It is possible to make a selection from ndarray that is a non-tuple sequence, ndarray object of integer or Boolean data type, or a tuple with at least one item being a sequence object. Advanced indexing always returns a copy of the data. As against this, the slicing only\n",
    "presents a view.\n",
    "\n",
    "There are two types of advanced indexing: Integer and Boolean.\n",
    "\n",
    "## Integer Indexing\n",
    "\n",
    "This mechanism helps in selecting any arbitrary item in an array based on its N-\n",
    "dimensional index. Each integer array represents the number of indexes into that\n",
    "dimension. When the index consists of as many integer arrays as the dimensions of the\n",
    "target ndarray, it becomes straightforward."
   ]
  },
  {
   "cell_type": "code",
   "execution_count": 42,
   "id": "intensive-avenue",
   "metadata": {},
   "outputs": [
    {
     "data": {
      "text/plain": [
       "(array([[1, 2],\n",
       "        [3, 4],\n",
       "        [5, 6]]),\n",
       " array([1, 4, 5]))"
      ]
     },
     "execution_count": 42,
     "metadata": {},
     "output_type": "execute_result"
    }
   ],
   "source": [
    "import numpy as np\n",
    "x = np.array([[1, 2], [3, 4], [5, 6]])\n",
    "y = x[[0,1,2], [0,1,0]]\n",
    "\n",
    "x,y"
   ]
  },
  {
   "cell_type": "code",
   "execution_count": 45,
   "id": "improved-american",
   "metadata": {},
   "outputs": [
    {
     "name": "stdout",
     "output_type": "stream",
     "text": [
      "Our array is:\n",
      "[[ 0  1  2]\n",
      " [ 3  4  5]\n",
      " [ 6  7  8]\n",
      " [ 9 10 11]]\n",
      "\n",
      "\n",
      "The corner elements of this array are:\n",
      "[[ 0  2]\n",
      " [ 9 11]]\n"
     ]
    }
   ],
   "source": [
    "import numpy as np\n",
    "x = np.array([[ 0,1,2],\n",
    "              [ 3,4,5],\n",
    "              [ 6,7,8],\n",
    "              [ 9, 10, 11]])\n",
    "\n",
    "print('Our array is:')\n",
    "print(x)\n",
    "print('\\n')\n",
    "rows = np.array([[0,0],[3,3]])\n",
    "\n",
    "cols = np.array([[0,2],[0,2]])\n",
    "y = x[rows,cols]\n",
    "print('The corner elements of this array are:')\n",
    "print(y)"
   ]
  },
  {
   "cell_type": "markdown",
   "id": "modern-andrews",
   "metadata": {},
   "source": [
    "## Boolean Array Indexing\n",
    "This type of advanced indexing is used when the resultant object is meant to be the result\n",
    "of Boolean operations, such as comparison operators."
   ]
  },
  {
   "cell_type": "code",
   "execution_count": 46,
   "id": "nervous-modern",
   "metadata": {},
   "outputs": [
    {
     "name": "stdout",
     "output_type": "stream",
     "text": [
      "Our array is:\n",
      "[[ 0  1  2]\n",
      " [ 3  4  5]\n",
      " [ 6  7  8]\n",
      " [ 9 10 11]]\n",
      "\n",
      "\n",
      "The items greater than 5 are:\n",
      "[ 6  7  8  9 10 11]\n"
     ]
    }
   ],
   "source": [
    "import numpy as np\n",
    "x = np.array([[ 0,1,2],\n",
    "              [ 3,4,5],\n",
    "              [ 6,7,8],\n",
    "              [ 9, 10, 11]])\n",
    "\n",
    "print('Our array is:')\n",
    "print(x)\n",
    "print('\\n')\n",
    "\n",
    "# Now we will print the items greater than 5\n",
    "print('The items greater than 5 are:')\n",
    "print(x[x>5])"
   ]
  },
  {
   "cell_type": "markdown",
   "id": "fewer-pennsylvania",
   "metadata": {},
   "source": [
    "# 11. NumPy − Broadcasting\n",
    "The term broadcasting refers to the ability of NumPy to treat arrays of different shapes\n",
    "during arithmetic operations. Arithmetic operations on arrays are usually done on\n",
    "corresponding elements. If two arrays are of exactly the same shape, then these\n",
    "operations are smoothly performed."
   ]
  },
  {
   "cell_type": "code",
   "execution_count": 47,
   "id": "qualified-registration",
   "metadata": {},
   "outputs": [
    {
     "name": "stdout",
     "output_type": "stream",
     "text": [
      "First array:\n",
      "[[ 0.  0.  0.]\n",
      " [10. 10. 10.]\n",
      " [20. 20. 20.]\n",
      " [30. 30. 30.]]\n",
      "\n",
      "\n",
      "Second array:\n",
      "[1. 2. 3.]\n",
      "\n",
      "\n",
      "First Array + Second Array\n",
      "[[ 1.  2.  3.]\n",
      " [11. 12. 13.]\n",
      " [21. 22. 23.]\n",
      " [31. 32. 33.]]\n"
     ]
    }
   ],
   "source": [
    "import numpy as np\n",
    "a = np.array([[ 0.0, 0.0, 0.0],[10.0,10.0,10.0],\n",
    "[20.0,20.0,20.0],[30.0,30.0,30.0]])\n",
    "b = np.array([1.0,2.0,3.0])\n",
    "\n",
    "print('First array:')\n",
    "print(a)\n",
    "print('\\n')\n",
    "print('Second array:')\n",
    "print(b)\n",
    "print('\\n')\n",
    "print('First Array + Second Array')\n",
    "print(a+b)"
   ]
  },
  {
   "cell_type": "markdown",
   "id": "international-stations",
   "metadata": {},
   "source": [
    "# 12. NumPy − Iterating Over Array\n",
    "NumPy package contains an iterator object numpy.nditer."
   ]
  },
  {
   "cell_type": "code",
   "execution_count": 48,
   "id": "prerequisite-circus",
   "metadata": {},
   "outputs": [
    {
     "data": {
      "text/plain": [
       "array([[ 0,  5, 10, 15],\n",
       "       [20, 25, 30, 35],\n",
       "       [40, 45, 50, 55]])"
      ]
     },
     "execution_count": 48,
     "metadata": {},
     "output_type": "execute_result"
    }
   ],
   "source": [
    "import numpy as np\n",
    "a = np.arange(0,60,5)\n",
    "a = a.reshape(3,4)\n",
    "\n",
    "a"
   ]
  },
  {
   "cell_type": "code",
   "execution_count": 51,
   "id": "major-hungarian",
   "metadata": {},
   "outputs": [
    {
     "name": "stdout",
     "output_type": "stream",
     "text": [
      "0,5,10,15,20,25,30,35,40,45,50,55,"
     ]
    }
   ],
   "source": [
    "for x in np.nditer(a):\n",
    "    print(x,end=',')"
   ]
  }
 ],
 "metadata": {
  "kernelspec": {
   "display_name": "Python 3",
   "language": "python",
   "name": "python3"
  },
  "language_info": {
   "codemirror_mode": {
    "name": "ipython",
    "version": 3
   },
   "file_extension": ".py",
   "mimetype": "text/x-python",
   "name": "python",
   "nbconvert_exporter": "python",
   "pygments_lexer": "ipython3",
   "version": "3.6.9"
  }
 },
 "nbformat": 4,
 "nbformat_minor": 5
}

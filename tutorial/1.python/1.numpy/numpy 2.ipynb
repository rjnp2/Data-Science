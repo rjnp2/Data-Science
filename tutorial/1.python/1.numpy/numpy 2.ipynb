{
 "cells": [
  {
   "cell_type": "markdown",
   "id": "corporate-blind",
   "metadata": {},
   "source": [
    "# 13. NumPy – Array Manipulation"
   ]
  },
  {
   "cell_type": "markdown",
   "id": "cognitive-bahamas",
   "metadata": {},
   "source": [
    "## numpy.reshape\n",
    "This function gives a new shape to an array without changing the data. It accepts the following parameters: \\\n",
    "numpy.reshape(arr, newshape, order')"
   ]
  },
  {
   "cell_type": "code",
   "execution_count": 3,
   "id": "affiliated-timothy",
   "metadata": {},
   "outputs": [
    {
     "name": "stdout",
     "output_type": "stream",
     "text": [
      "[0 1 2 3 4 5 6 7]\n"
     ]
    },
    {
     "data": {
      "text/plain": [
       "array([[0, 1],\n",
       "       [2, 3],\n",
       "       [4, 5],\n",
       "       [6, 7]])"
      ]
     },
     "execution_count": 3,
     "metadata": {},
     "output_type": "execute_result"
    }
   ],
   "source": [
    "import numpy as np\n",
    "a = np.arange(8)\n",
    "\n",
    "print(a)\n",
    "\n",
    "b = a.reshape(4,2)\n",
    "b"
   ]
  },
  {
   "cell_type": "markdown",
   "id": "romantic-metropolitan",
   "metadata": {},
   "source": [
    "# numpy.ndarray.flat\n",
    "This function returns a 1-D iterator over the array. It behaves similar to Python's built-in\n",
    "iterator."
   ]
  },
  {
   "cell_type": "code",
   "execution_count": 7,
   "id": "seeing-printer",
   "metadata": {},
   "outputs": [
    {
     "name": "stdout",
     "output_type": "stream",
     "text": [
      "[[0 1 2 3]\n",
      " [4 5 6 7]]\n",
      "After applying the flat function:\n",
      "5\n"
     ]
    }
   ],
   "source": [
    "import numpy as np\n",
    "a = np.arange(8).reshape(2,4)\n",
    "\n",
    "print(a)\n",
    "\n",
    "print('After applying the flat function:')\n",
    "# returns element corresponding to index in flattened array\n",
    "print(a.flat[5])"
   ]
  },
  {
   "cell_type": "markdown",
   "id": "south-picking",
   "metadata": {},
   "source": [
    "## numpy.ndarray.flatten\n",
    "This function returns a copy of an array collapsed into one dimension. The function takes\n",
    "the following parameters.\n",
    "\n",
    "ndarray.flatten(order)"
   ]
  },
  {
   "cell_type": "code",
   "execution_count": 8,
   "id": "mighty-pierce",
   "metadata": {},
   "outputs": [
    {
     "name": "stdout",
     "output_type": "stream",
     "text": [
      "[[0 1 2 3]\n",
      " [4 5 6 7]]\n",
      "After applying the flatten function:\n",
      "[0 1 2 3 4 5 6 7]\n"
     ]
    }
   ],
   "source": [
    "import numpy as np\n",
    "a = np.arange(8).reshape(2,4)\n",
    "\n",
    "print(a)\n",
    "\n",
    "print('After applying the flatten function:')\n",
    "# returns element corresponding to index in flattened array\n",
    "print(a.flatten())"
   ]
  },
  {
   "cell_type": "markdown",
   "id": "awful-commissioner",
   "metadata": {},
   "source": [
    "## numpy.ravel\n",
    "This function returns a flattened one-dimensional array. A copy is made only if needed.\n",
    "The returned array will have the same type as that of the input array. The function takes\n",
    "one parameter.\n",
    "\n",
    "numpy.ravel(a, order)"
   ]
  },
  {
   "cell_type": "code",
   "execution_count": 10,
   "id": "human-hampshire",
   "metadata": {},
   "outputs": [
    {
     "name": "stdout",
     "output_type": "stream",
     "text": [
      "[[0 1 2 3]\n",
      " [4 5 6 7]]\n",
      "After applying the ravel function:\n",
      "[0 1 2 3 4 5 6 7]\n"
     ]
    }
   ],
   "source": [
    "import numpy as np\n",
    "a = np.arange(8).reshape(2,4)\n",
    "\n",
    "print(a)\n",
    "\n",
    "print('After applying the ravel function:')\n",
    "# returns element corresponding to index in flattened array\n",
    "print(a.ravel())"
   ]
  },
  {
   "cell_type": "markdown",
   "id": "allied-alcohol",
   "metadata": {},
   "source": [
    "# numpy.transpose"
   ]
  },
  {
   "cell_type": "code",
   "execution_count": 13,
   "id": "satisfactory-anchor",
   "metadata": {},
   "outputs": [
    {
     "data": {
      "text/plain": [
       "(array([[0, 1, 2, 3],\n",
       "        [4, 5, 6, 7]]),\n",
       " array([[0, 4],\n",
       "        [1, 5],\n",
       "        [2, 6],\n",
       "        [3, 7]]),\n",
       " array([[0, 4],\n",
       "        [1, 5],\n",
       "        [2, 6],\n",
       "        [3, 7]]))"
      ]
     },
     "execution_count": 13,
     "metadata": {},
     "output_type": "execute_result"
    }
   ],
   "source": [
    "a, np.transpose(a) , a.T"
   ]
  },
  {
   "cell_type": "markdown",
   "id": "bronze-worker",
   "metadata": {},
   "source": [
    "## numpy.expand_dims\n",
    "This function expands the array by inserting a new axis at the specified position. Two\n",
    "parameters are required by this function.\n",
    "\n",
    "numpy.expand_dims(arr, axis)"
   ]
  },
  {
   "cell_type": "code",
   "execution_count": 14,
   "id": "orange-mouse",
   "metadata": {},
   "outputs": [
    {
     "data": {
      "text/plain": [
       "array([[1, 2],\n",
       "       [3, 4]])"
      ]
     },
     "execution_count": 14,
     "metadata": {},
     "output_type": "execute_result"
    }
   ],
   "source": [
    "x = np.array(([1,2],[3,4]))\n",
    "x"
   ]
  },
  {
   "cell_type": "code",
   "execution_count": 15,
   "id": "regulation-authority",
   "metadata": {},
   "outputs": [
    {
     "data": {
      "text/plain": [
       "array([[[1, 2],\n",
       "        [3, 4]]])"
      ]
     },
     "execution_count": 15,
     "metadata": {},
     "output_type": "execute_result"
    }
   ],
   "source": [
    "y = np.expand_dims(x, axis=0)\n",
    "y"
   ]
  },
  {
   "cell_type": "code",
   "execution_count": 16,
   "id": "otherwise-antique",
   "metadata": {},
   "outputs": [
    {
     "data": {
      "text/plain": [
       "((2, 2), (1, 2, 2))"
      ]
     },
     "execution_count": 16,
     "metadata": {},
     "output_type": "execute_result"
    }
   ],
   "source": [
    "x.shape, y.shape"
   ]
  },
  {
   "cell_type": "code",
   "execution_count": 17,
   "id": "daily-federal",
   "metadata": {},
   "outputs": [
    {
     "data": {
      "text/plain": [
       "array([[[1, 2]],\n",
       "\n",
       "       [[3, 4]]])"
      ]
     },
     "execution_count": 17,
     "metadata": {},
     "output_type": "execute_result"
    }
   ],
   "source": [
    "y = np.expand_dims(x, axis=1)\n",
    "y"
   ]
  },
  {
   "cell_type": "code",
   "execution_count": 18,
   "id": "complete-addition",
   "metadata": {},
   "outputs": [
    {
     "data": {
      "text/plain": [
       "((2, 2), (2, 1, 2))"
      ]
     },
     "execution_count": 18,
     "metadata": {},
     "output_type": "execute_result"
    }
   ],
   "source": [
    "x.shape, y.shape"
   ]
  },
  {
   "cell_type": "code",
   "execution_count": 19,
   "id": "forced-paraguay",
   "metadata": {},
   "outputs": [
    {
     "data": {
      "text/plain": [
       "(2, 3)"
      ]
     },
     "execution_count": 19,
     "metadata": {},
     "output_type": "execute_result"
    }
   ],
   "source": [
    "x.ndim,y.ndim"
   ]
  },
  {
   "cell_type": "markdown",
   "id": "experienced-terror",
   "metadata": {},
   "source": [
    "# numpy.squeeze\n",
    "This function removes one-dimensional entry from the shape of the given array. Two\n",
    "parameters are required for this function.\n",
    "\n",
    "numpy.squeeze(arr, axis)"
   ]
  },
  {
   "cell_type": "code",
   "execution_count": 20,
   "id": "satellite-twist",
   "metadata": {},
   "outputs": [
    {
     "data": {
      "text/plain": [
       "array([[[0, 1, 2],\n",
       "        [3, 4, 5],\n",
       "        [6, 7, 8]]])"
      ]
     },
     "execution_count": 20,
     "metadata": {},
     "output_type": "execute_result"
    }
   ],
   "source": [
    "import numpy as np\n",
    "x = np.arange(9).reshape(1,3,3)\n",
    "x"
   ]
  },
  {
   "cell_type": "code",
   "execution_count": 21,
   "id": "everyday-preservation",
   "metadata": {},
   "outputs": [
    {
     "data": {
      "text/plain": [
       "array([[0, 1, 2],\n",
       "       [3, 4, 5],\n",
       "       [6, 7, 8]])"
      ]
     },
     "execution_count": 21,
     "metadata": {},
     "output_type": "execute_result"
    }
   ],
   "source": [
    "y = np.squeeze(x)\n",
    "y"
   ]
  },
  {
   "cell_type": "code",
   "execution_count": 22,
   "id": "liberal-boating",
   "metadata": {},
   "outputs": [
    {
     "data": {
      "text/plain": [
       "((1, 3, 3), (3, 3))"
      ]
     },
     "execution_count": 22,
     "metadata": {},
     "output_type": "execute_result"
    }
   ],
   "source": [
    "x.shape, y.shape"
   ]
  },
  {
   "cell_type": "code",
   "execution_count": 23,
   "id": "sunrise-courtesy",
   "metadata": {},
   "outputs": [
    {
     "data": {
      "text/plain": [
       "(3, 2)"
      ]
     },
     "execution_count": 23,
     "metadata": {},
     "output_type": "execute_result"
    }
   ],
   "source": [
    "x.ndim,y.ndim"
   ]
  },
  {
   "cell_type": "markdown",
   "id": "scientific-commonwealth",
   "metadata": {},
   "source": [
    "## numpy.concatenate\n",
    "Concatenation refers to joining. This function is used to join two or more arrays of the\n",
    "same shape along a specified axis. The function takes the following parameters.\n",
    "\n",
    "numpy.concatenate((a1, a2, ...), axis)"
   ]
  },
  {
   "cell_type": "code",
   "execution_count": 24,
   "id": "executive-louisiana",
   "metadata": {},
   "outputs": [
    {
     "data": {
      "text/plain": [
       "array([[1, 2],\n",
       "       [3, 4]])"
      ]
     },
     "execution_count": 24,
     "metadata": {},
     "output_type": "execute_result"
    }
   ],
   "source": [
    "a=np.array([[1,2],[3,4]])\n",
    "a"
   ]
  },
  {
   "cell_type": "code",
   "execution_count": 25,
   "id": "southwest-ladder",
   "metadata": {},
   "outputs": [
    {
     "data": {
      "text/plain": [
       "array([[5, 6],\n",
       "       [7, 8]])"
      ]
     },
     "execution_count": 25,
     "metadata": {},
     "output_type": "execute_result"
    }
   ],
   "source": [
    "b = np.array([[5,6],[7,8]])\n",
    "b"
   ]
  },
  {
   "cell_type": "code",
   "execution_count": 26,
   "id": "preceding-partition",
   "metadata": {},
   "outputs": [
    {
     "data": {
      "text/plain": [
       "array([[1, 2],\n",
       "       [3, 4],\n",
       "       [5, 6],\n",
       "       [7, 8]])"
      ]
     },
     "execution_count": 26,
     "metadata": {},
     "output_type": "execute_result"
    }
   ],
   "source": [
    "np.concatenate((a,b))"
   ]
  },
  {
   "cell_type": "code",
   "execution_count": 27,
   "id": "institutional-passport",
   "metadata": {},
   "outputs": [
    {
     "data": {
      "text/plain": [
       "array([[1, 2, 5, 6],\n",
       "       [3, 4, 7, 8]])"
      ]
     },
     "execution_count": 27,
     "metadata": {},
     "output_type": "execute_result"
    }
   ],
   "source": [
    "np.concatenate((a,b),axis=1)"
   ]
  },
  {
   "cell_type": "markdown",
   "id": "expressed-anger",
   "metadata": {},
   "source": [
    "## numpy.stack\n",
    "This function joins the sequence of arrays along a new axis. This function has been added\n",
    "since NumPy version 1.10.0. Following parameters need to be provided.\n",
    "\n",
    "numpy.stack(arrays, axis)"
   ]
  },
  {
   "cell_type": "code",
   "execution_count": 28,
   "id": "prospective-crest",
   "metadata": {},
   "outputs": [
    {
     "data": {
      "text/plain": [
       "array([[1, 2],\n",
       "       [3, 4]])"
      ]
     },
     "execution_count": 28,
     "metadata": {},
     "output_type": "execute_result"
    }
   ],
   "source": [
    "a=np.array([[1,2],[3,4]])\n",
    "a"
   ]
  },
  {
   "cell_type": "code",
   "execution_count": 29,
   "id": "vocational-gardening",
   "metadata": {},
   "outputs": [
    {
     "data": {
      "text/plain": [
       "array([[5, 6],\n",
       "       [7, 8]])"
      ]
     },
     "execution_count": 29,
     "metadata": {},
     "output_type": "execute_result"
    }
   ],
   "source": [
    "b = np.array([[5,6],[7,8]])\n",
    "b"
   ]
  },
  {
   "cell_type": "code",
   "execution_count": 30,
   "id": "blocked-accreditation",
   "metadata": {},
   "outputs": [
    {
     "data": {
      "text/plain": [
       "array([[[1, 2],\n",
       "        [3, 4]],\n",
       "\n",
       "       [[5, 6],\n",
       "        [7, 8]]])"
      ]
     },
     "execution_count": 30,
     "metadata": {},
     "output_type": "execute_result"
    }
   ],
   "source": [
    "np.stack((a,b),0)"
   ]
  },
  {
   "cell_type": "code",
   "execution_count": 31,
   "id": "equal-diameter",
   "metadata": {},
   "outputs": [
    {
     "data": {
      "text/plain": [
       "array([[[1, 2],\n",
       "        [5, 6]],\n",
       "\n",
       "       [[3, 4],\n",
       "        [7, 8]]])"
      ]
     },
     "execution_count": 31,
     "metadata": {},
     "output_type": "execute_result"
    }
   ],
   "source": [
    "np.stack((a,b),1)"
   ]
  },
  {
   "cell_type": "markdown",
   "id": "absolute-indie",
   "metadata": {},
   "source": [
    "## numpy.split\n",
    "This function divides the array into subarrays along a specified axis. The function takes\n",
    "three parameters.\n",
    "\n",
    "numpy.split(ary, indices_or_sections, axis)"
   ]
  },
  {
   "cell_type": "code",
   "execution_count": 33,
   "id": "polyphonic-estate",
   "metadata": {},
   "outputs": [],
   "source": [
    "a = np.arange(9)\n",
    "\n",
    "b = np.split(a,3)"
   ]
  },
  {
   "cell_type": "markdown",
   "id": "employed-speaker",
   "metadata": {},
   "source": [
    "a,b"
   ]
  },
  {
   "cell_type": "code",
   "execution_count": 35,
   "id": "intense-harassment",
   "metadata": {},
   "outputs": [
    {
     "data": {
      "text/plain": [
       "[array([0, 1, 2, 3]), array([4, 5, 6]), array([7, 8])]"
      ]
     },
     "execution_count": 35,
     "metadata": {},
     "output_type": "execute_result"
    }
   ],
   "source": [
    "b = np.split(a,[4,7])\n",
    "b"
   ]
  },
  {
   "cell_type": "markdown",
   "id": "experienced-screen",
   "metadata": {},
   "source": [
    "## numpy.append\n",
    "This function adds values at the end of an input array. The append operation is not in-\n",
    "place, a new array is allocated. Also the dimensions of the input arrays must match\n",
    "otherwise ValueError will be generated.\n",
    "The function takes the following parameters.\n",
    "\n",
    "numpy.append(arr, values, axis)"
   ]
  },
  {
   "cell_type": "code",
   "execution_count": 36,
   "id": "hidden-sharp",
   "metadata": {},
   "outputs": [
    {
     "data": {
      "text/plain": [
       "array([[1, 2, 3],\n",
       "       [4, 5, 6]])"
      ]
     },
     "execution_count": 36,
     "metadata": {},
     "output_type": "execute_result"
    }
   ],
   "source": [
    "import numpy as np\n",
    "a = np.array([[1,2,3],[4,5,6]])\n",
    "a"
   ]
  },
  {
   "cell_type": "code",
   "execution_count": 37,
   "id": "unlimited-story",
   "metadata": {},
   "outputs": [
    {
     "data": {
      "text/plain": [
       "array([1, 2, 3, 4, 5, 6, 7, 8, 9])"
      ]
     },
     "execution_count": 37,
     "metadata": {},
     "output_type": "execute_result"
    }
   ],
   "source": [
    "np.append(a, [7,8,9])"
   ]
  },
  {
   "cell_type": "code",
   "execution_count": 38,
   "id": "aging-present",
   "metadata": {},
   "outputs": [
    {
     "data": {
      "text/plain": [
       "array([[1, 2, 3],\n",
       "       [4, 5, 6],\n",
       "       [7, 8, 9]])"
      ]
     },
     "execution_count": 38,
     "metadata": {},
     "output_type": "execute_result"
    }
   ],
   "source": [
    "np.append(a, [[7,8,9]],axis=0)"
   ]
  },
  {
   "cell_type": "code",
   "execution_count": 40,
   "id": "touched-private",
   "metadata": {},
   "outputs": [
    {
     "data": {
      "text/plain": [
       "array([[1, 2, 3, 5, 5, 5],\n",
       "       [4, 5, 6, 7, 8, 9]])"
      ]
     },
     "execution_count": 40,
     "metadata": {},
     "output_type": "execute_result"
    }
   ],
   "source": [
    "np.append(a, [[5,5,5],[7,8,9]],axis=1)"
   ]
  },
  {
   "cell_type": "markdown",
   "id": "described-number",
   "metadata": {},
   "source": [
    "# 14. NumPy − Mathematical Functions"
   ]
  },
  {
   "cell_type": "markdown",
   "id": "excellent-syndication",
   "metadata": {},
   "source": [
    "## Trigonometric Functions\n",
    "NumPy has standard trigonometric functions which return trigonometric ratios for a given\n",
    "angle in radians."
   ]
  },
  {
   "cell_type": "code",
   "execution_count": 42,
   "id": "above-newman",
   "metadata": {},
   "outputs": [
    {
     "name": "stdout",
     "output_type": "stream",
     "text": [
      "Sine of different angles:\n",
      "[0.         0.5        0.70710678 0.8660254  1.        ]\n",
      "\n",
      "\n",
      "Cosine values for angles in array:\n",
      "[1.00000000e+00 8.66025404e-01 7.07106781e-01 5.00000000e-01\n",
      " 6.12323400e-17]\n"
     ]
    }
   ],
   "source": [
    "import numpy as np\n",
    "a = np.array([0,30,45,60,90])\n",
    "\n",
    "print('Sine of different angles:')\n",
    "# Convert to radians by multiplying with pi/180\n",
    "print(np.sin(a*np.pi/180))\n",
    "\n",
    "print('\\n')\n",
    "print('Cosine values for angles in array:')\n",
    "print(np.cos(a*np.pi/180))"
   ]
  },
  {
   "cell_type": "markdown",
   "id": "nasty-chosen",
   "metadata": {},
   "source": [
    "## numpy.around()\n",
    "This is a function that returns the value rounded to the desired precision. The function\n",
    "takes the following parameters.\n",
    "\n",
    "numpy.around(a,decimals)"
   ]
  },
  {
   "cell_type": "code",
   "execution_count": 43,
   "id": "limiting-tribe",
   "metadata": {},
   "outputs": [
    {
     "data": {
      "text/plain": [
       "array([  1.   ,   5.55 , 123.   ,   0.567,  25.532])"
      ]
     },
     "execution_count": 43,
     "metadata": {},
     "output_type": "execute_result"
    }
   ],
   "source": [
    "a = np.array([1.0,5.55, 123, 0.567, 25.532])\n",
    "a"
   ]
  },
  {
   "cell_type": "code",
   "execution_count": 47,
   "id": "sized-celebrity",
   "metadata": {},
   "outputs": [
    {
     "data": {
      "text/plain": [
       "array([  1.,   6., 123.,   1.,  26.])"
      ]
     },
     "execution_count": 47,
     "metadata": {},
     "output_type": "execute_result"
    }
   ],
   "source": [
    "np.around(a)"
   ]
  },
  {
   "cell_type": "code",
   "execution_count": 48,
   "id": "raising-omega",
   "metadata": {},
   "outputs": [
    {
     "data": {
      "text/plain": [
       "array([  1. ,   5.6, 123. ,   0.6,  25.5])"
      ]
     },
     "execution_count": 48,
     "metadata": {},
     "output_type": "execute_result"
    }
   ],
   "source": [
    "np.around(a, decimals=1)"
   ]
  },
  {
   "cell_type": "code",
   "execution_count": 49,
   "id": "indie-syracuse",
   "metadata": {},
   "outputs": [
    {
     "data": {
      "text/plain": [
       "array([  0.,  10., 120.,   0.,  30.])"
      ]
     },
     "execution_count": 49,
     "metadata": {},
     "output_type": "execute_result"
    }
   ],
   "source": [
    "np.around(a, decimals=-1)"
   ]
  },
  {
   "cell_type": "markdown",
   "id": "resident-election",
   "metadata": {},
   "source": [
    "## numpy.floor()"
   ]
  },
  {
   "cell_type": "code",
   "execution_count": 51,
   "id": "ethical-employer",
   "metadata": {},
   "outputs": [
    {
     "data": {
      "text/plain": [
       "array([  1.,   5., 123.,   0.,  25.])"
      ]
     },
     "execution_count": 51,
     "metadata": {},
     "output_type": "execute_result"
    }
   ],
   "source": [
    "np.floor(a)"
   ]
  },
  {
   "cell_type": "code",
   "execution_count": 52,
   "id": "divided-musical",
   "metadata": {},
   "outputs": [
    {
     "data": {
      "text/plain": [
       "array([  1.,   6., 123.,   1.,  26.])"
      ]
     },
     "execution_count": 52,
     "metadata": {},
     "output_type": "execute_result"
    }
   ],
   "source": [
    "np.ceil(a)"
   ]
  },
  {
   "cell_type": "markdown",
   "id": "choice-cisco",
   "metadata": {},
   "source": [
    "# 15. NumPy − Arithmetic Operations\n",
    "\n",
    "np. + - / *\n"
   ]
  },
  {
   "cell_type": "markdown",
   "id": "sharp-preparation",
   "metadata": {},
   "source": [
    "numpy.reciprocal()\n",
    "\n",
    "numpy.power()\n",
    "\n",
    "numpy.mod()\n",
    "\n"
   ]
  },
  {
   "cell_type": "markdown",
   "id": "vocal-start",
   "metadata": {},
   "source": [
    "# 16. NumPy − Statistical Functions"
   ]
  },
  {
   "cell_type": "markdown",
   "id": "first-mileage",
   "metadata": {},
   "source": [
    "## numpy.amin() and numpy.amax()\n",
    "These functions return the minimum and the maximum from the elements in the given\n",
    "array along the specified axis."
   ]
  },
  {
   "cell_type": "code",
   "execution_count": 53,
   "id": "distinct-image",
   "metadata": {},
   "outputs": [
    {
     "data": {
      "text/plain": [
       "array([[3, 7, 5],\n",
       "       [8, 4, 3],\n",
       "       [2, 4, 9]])"
      ]
     },
     "execution_count": 53,
     "metadata": {},
     "output_type": "execute_result"
    }
   ],
   "source": [
    "a = np.array([[3,7,5],[8,4,3],[2,4,9]])\n",
    "a"
   ]
  },
  {
   "cell_type": "code",
   "execution_count": 54,
   "id": "preceding-genealogy",
   "metadata": {},
   "outputs": [
    {
     "data": {
      "text/plain": [
       "array([3, 3, 2])"
      ]
     },
     "execution_count": 54,
     "metadata": {},
     "output_type": "execute_result"
    }
   ],
   "source": [
    "np.amin(a,1)"
   ]
  },
  {
   "cell_type": "code",
   "execution_count": 55,
   "id": "undefined-pension",
   "metadata": {},
   "outputs": [
    {
     "data": {
      "text/plain": [
       "array([2, 4, 3])"
      ]
     },
     "execution_count": 55,
     "metadata": {},
     "output_type": "execute_result"
    }
   ],
   "source": [
    "np.amin(a,0)"
   ]
  },
  {
   "cell_type": "code",
   "execution_count": 56,
   "id": "friendly-renewal",
   "metadata": {},
   "outputs": [
    {
     "data": {
      "text/plain": [
       "array([8, 7, 9])"
      ]
     },
     "execution_count": 56,
     "metadata": {},
     "output_type": "execute_result"
    }
   ],
   "source": [
    "np.amax(a, axis=0)"
   ]
  },
  {
   "cell_type": "markdown",
   "id": "sought-neighborhood",
   "metadata": {},
   "source": [
    "# numpy.median()"
   ]
  },
  {
   "cell_type": "code",
   "execution_count": 57,
   "id": "independent-discount",
   "metadata": {},
   "outputs": [
    {
     "data": {
      "text/plain": [
       "4.0"
      ]
     },
     "execution_count": 57,
     "metadata": {},
     "output_type": "execute_result"
    }
   ],
   "source": [
    "np.median(a)"
   ]
  },
  {
   "cell_type": "code",
   "execution_count": 58,
   "id": "associate-premium",
   "metadata": {},
   "outputs": [
    {
     "data": {
      "text/plain": [
       "array([3., 4., 5.])"
      ]
     },
     "execution_count": 58,
     "metadata": {},
     "output_type": "execute_result"
    }
   ],
   "source": [
    "np.median(a, axis=0)"
   ]
  },
  {
   "cell_type": "code",
   "execution_count": 59,
   "id": "proprietary-discrimination",
   "metadata": {},
   "outputs": [
    {
     "data": {
      "text/plain": [
       "array([5., 4., 4.])"
      ]
     },
     "execution_count": 59,
     "metadata": {},
     "output_type": "execute_result"
    }
   ],
   "source": [
    "np.median(a, axis=1)"
   ]
  },
  {
   "cell_type": "markdown",
   "id": "proud-camcorder",
   "metadata": {},
   "source": [
    "## numpy.mean()\n",
    "\n",
    "## numpy.average()"
   ]
  },
  {
   "cell_type": "markdown",
   "id": "sticky-elizabeth",
   "metadata": {},
   "source": [
    "# 17. NumPy − Sort, Search & Counting Functions"
   ]
  },
  {
   "cell_type": "markdown",
   "id": "environmental-variable",
   "metadata": {},
   "source": [
    "## numpy.sort()\n",
    "The sort() function returns a sorted copy of the input array. It has the following\n",
    "parameters:\n",
    "    \n",
    "numpy.sort(a, axis, kind, order)"
   ]
  },
  {
   "cell_type": "code",
   "execution_count": 60,
   "id": "demanding-origin",
   "metadata": {},
   "outputs": [
    {
     "data": {
      "text/plain": [
       "array([[3, 7],\n",
       "       [9, 1]])"
      ]
     },
     "execution_count": 60,
     "metadata": {},
     "output_type": "execute_result"
    }
   ],
   "source": [
    "a = np.array([[3,7],[9,1]])\n",
    "a"
   ]
  },
  {
   "cell_type": "code",
   "execution_count": 61,
   "id": "protected-least",
   "metadata": {},
   "outputs": [
    {
     "data": {
      "text/plain": [
       "array([[3, 7],\n",
       "       [1, 9]])"
      ]
     },
     "execution_count": 61,
     "metadata": {},
     "output_type": "execute_result"
    }
   ],
   "source": [
    "np.sort(a)"
   ]
  },
  {
   "cell_type": "code",
   "execution_count": 62,
   "id": "brave-sally",
   "metadata": {},
   "outputs": [
    {
     "data": {
      "text/plain": [
       "array([(b'raju', 21), (b'anil', 25), (b'ravi', 17), (b'amar', 27)],\n",
       "      dtype=[('name', 'S10'), ('age', '<i8')])"
      ]
     },
     "execution_count": 62,
     "metadata": {},
     "output_type": "execute_result"
    }
   ],
   "source": [
    "# Order parameter in sort function\n",
    "dt = np.dtype([('name', 'S10'),('age', int)])\n",
    "a = np.array([(\"raju\",21),(\"anil\",25),(\"ravi\", 17), (\"amar\",27)], dtype=dt)\n",
    "a"
   ]
  },
  {
   "cell_type": "code",
   "execution_count": 63,
   "id": "decimal-screw",
   "metadata": {},
   "outputs": [
    {
     "data": {
      "text/plain": [
       "array([(b'amar', 27), (b'anil', 25), (b'raju', 21), (b'ravi', 17)],\n",
       "      dtype=[('name', 'S10'), ('age', '<i8')])"
      ]
     },
     "execution_count": 63,
     "metadata": {},
     "output_type": "execute_result"
    }
   ],
   "source": [
    "np.sort(a, order='name')"
   ]
  },
  {
   "cell_type": "markdown",
   "id": "criminal-effects",
   "metadata": {},
   "source": [
    "# 18. NumPy − Linear Algebra"
   ]
  },
  {
   "cell_type": "markdown",
   "id": "rental-tragedy",
   "metadata": {},
   "source": [
    "## numpy.dot()\n",
    "This function returns the dot product of two arrays. For 2-D vectors, it is the equivalent to\n",
    "matrix multiplication. For 1-D arrays, it is the inner product of the vectors. For N-\n",
    "dimensional arrays, it is a sum product over the last axis of a and the second-last axis\n",
    "of b.\n",
    "\n"
   ]
  },
  {
   "cell_type": "code",
   "execution_count": 64,
   "id": "reasonable-toyota",
   "metadata": {},
   "outputs": [
    {
     "data": {
      "text/plain": [
       "array([[37, 40],\n",
       "       [85, 92]])"
      ]
     },
     "execution_count": 64,
     "metadata": {},
     "output_type": "execute_result"
    }
   ],
   "source": [
    "import numpy.matlib\n",
    "import numpy as np\n",
    "a = np.array([[1,2],[3,4]])\n",
    "b = np.array([[11,12],[13,14]])\n",
    "\n",
    "np.dot(a,b)"
   ]
  },
  {
   "cell_type": "markdown",
   "id": "hearing-algeria",
   "metadata": {},
   "source": [
    "## numpy.inner()\n",
    "This function returns the inner product of vectors for 1-D arrays. For higher dimensions,\n",
    "it returns the sum product over the last axes"
   ]
  },
  {
   "cell_type": "code",
   "execution_count": 65,
   "id": "determined-absolute",
   "metadata": {},
   "outputs": [
    {
     "data": {
      "text/plain": [
       "2"
      ]
     },
     "execution_count": 65,
     "metadata": {},
     "output_type": "execute_result"
    }
   ],
   "source": [
    "import numpy as np\n",
    "np.inner(np.array([1,2,3]),np.array([0,1,0]))\n",
    "# Equates to 1*0+2*1+3*0"
   ]
  },
  {
   "cell_type": "markdown",
   "id": "anticipated-interstate",
   "metadata": {},
   "source": [
    "## numpy.matmul()\n",
    "The numpy.matmul() function returns the matrix product of two arrays. While it returns\n",
    "a normal product for 2-D arrays, if dimensions of either argument is >2, it is treated as a\n",
    "stack of matrices residing in the last two indexes and is broadcast accordingly."
   ]
  },
  {
   "cell_type": "code",
   "execution_count": 66,
   "id": "forced-hartford",
   "metadata": {},
   "outputs": [
    {
     "data": {
      "text/plain": [
       "array([[4, 1],\n",
       "       [2, 2]])"
      ]
     },
     "execution_count": 66,
     "metadata": {},
     "output_type": "execute_result"
    }
   ],
   "source": [
    "a = [[1,0],[0,1]]\n",
    "b = [[4,1],[2,2]]\n",
    "\n",
    "np.matmul(a,b)"
   ]
  },
  {
   "cell_type": "markdown",
   "id": "administrative-manner",
   "metadata": {},
   "source": [
    "## Determinant"
   ]
  },
  {
   "cell_type": "code",
   "execution_count": 67,
   "id": "intermediate-quarterly",
   "metadata": {},
   "outputs": [
    {
     "data": {
      "text/plain": [
       "1.0"
      ]
     },
     "execution_count": 67,
     "metadata": {},
     "output_type": "execute_result"
    }
   ],
   "source": [
    "np.linalg.det(a)"
   ]
  },
  {
   "cell_type": "code",
   "execution_count": 68,
   "id": "acting-traffic",
   "metadata": {},
   "outputs": [
    {
     "data": {
      "text/plain": [
       "6.0"
      ]
     },
     "execution_count": 68,
     "metadata": {},
     "output_type": "execute_result"
    }
   ],
   "source": [
    "np.linalg.det(b)"
   ]
  }
 ],
 "metadata": {
  "kernelspec": {
   "display_name": "Python 3",
   "language": "python",
   "name": "python3"
  },
  "language_info": {
   "codemirror_mode": {
    "name": "ipython",
    "version": 3
   },
   "file_extension": ".py",
   "mimetype": "text/x-python",
   "name": "python",
   "nbconvert_exporter": "python",
   "pygments_lexer": "ipython3",
   "version": "3.6.9"
  }
 },
 "nbformat": 4,
 "nbformat_minor": 5
}

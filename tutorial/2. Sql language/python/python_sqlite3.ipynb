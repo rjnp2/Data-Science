{
 "cells": [
  {
   "cell_type": "markdown",
   "id": "widespread-metadata",
   "metadata": {},
   "source": [
    "# SQLite\n",
    "\n",
    "SQLite is probably the most straightforward database to connect with a Python since you don’t need to install any external Python SQL modules to do so. By default, Python contains a Python SQL library named sqlite3 that i can use to interact with an SQLite database.\n",
    "\n",
    "What’s more, SQLite databases are serverless and self-contained, since they read and write data to a file. This means that, unlike with MySQL and PostgreSQL, you don’t even need to install and run an SQLite server to perform database operations!"
   ]
  },
  {
   "cell_type": "markdown",
   "id": "pressed-vessel",
   "metadata": {},
   "source": [
    "## Using Python SQL Libraries to Connect to a Database \n",
    "\n",
    "Before interact with any database through a Python SQL Library, have to connect to that database. In this, how to connect to SQLite databases from within a Python application. \n",
    "\n",
    ".connect() from sqlite3 module and takes the SQLite database path as a parameter.\n",
    "\n",
    "If the database exists at the specified location, then a connection to the database is established. Otherwise, a new database is created at the specified location, and a connection is established.\n",
    "\n",
    "Here’s how you use sqlite3 to connect to an SQLite database in Python:"
   ]
  },
  {
   "cell_type": "code",
   "execution_count": 3,
   "id": "wrong-filter",
   "metadata": {},
   "outputs": [],
   "source": [
    "import sqlite3\n",
    "from sqlite3 import Error\n",
    "\n",
    "def create_connection(path):\n",
    "    connection = None\n",
    "    try:\n",
    "        connection = sqlite3.connect(path)\n",
    "        print(\"Connection to SQLite DB successful\")\n",
    "    except Error as e:\n",
    "        print(f\"The error '{e}' occurred\")\n",
    "\n",
    "    return connection"
   ]
  },
  {
   "cell_type": "markdown",
   "id": "secondary-classics",
   "metadata": {},
   "source": [
    "Here’s how this code works:\n",
    "\n",
    "- import sqlite3 and the module’s Error class.\n",
    "- uses .connect() from sqlite3 module and takes the SQLite database path as a parameter. If the database exists at the specified location, then a connection to the database is established. Otherwise, a new database is created at the specified location, and a connection is established.\n",
    "- catches any exception that might be thrown if .connect() fails to establish a connection.\n"
   ]
  },
  {
   "cell_type": "code",
   "execution_count": 4,
   "id": "russian-tomorrow",
   "metadata": {},
   "outputs": [
    {
     "name": "stdout",
     "output_type": "stream",
     "text": [
      "Connection to SQLite DB successful\n"
     ]
    }
   ],
   "source": [
    "connection = create_connection(\"app.sqlite\")"
   ]
  },
  {
   "cell_type": "markdown",
   "id": "least-bahamas",
   "metadata": {},
   "source": [
    "## Creating Tables\n",
    "\n",
    "Create four tables: \n",
    "\n",
    "    1. users: id , name , age, gender ,nationality\n",
    "    2. posts: id ,title, descriptions, user_id  \n",
    "    3. comments: id , text, user_id , post_id \n",
    "    4. likes: id , user_id , post_id\n",
    "    \n",
    "To execute queries in SQLite, use cursor.execute().\n",
    "\n",
    "In this section, you’ll define a function execute_query() that uses this method. function accept the connection object and a query string, which you’ll pass to cursor.execute()."
   ]
  },
  {
   "cell_type": "code",
   "execution_count": 5,
   "id": "governing-conversation",
   "metadata": {},
   "outputs": [],
   "source": [
    "def execute_query(connection, query):\n",
    "    cursor = connection.cursor()\n",
    "    try:\n",
    "        cursor.execute(query)\n",
    "        connection.commit()\n",
    "        print(\"Query executed successfully\")\n",
    "    except Error as e:\n",
    "        print(f\"The error '{e}' occurred\")"
   ]
  },
  {
   "cell_type": "code",
   "execution_count": 6,
   "id": "different-instrument",
   "metadata": {},
   "outputs": [
    {
     "name": "stdout",
     "output_type": "stream",
     "text": [
      "Query executed successfully\n"
     ]
    }
   ],
   "source": [
    "create_users_table = \"\"\"\n",
    "CREATE TABLE IF NOT EXISTS users (\n",
    "  id INTEGER PRIMARY KEY AUTOINCREMENT,\n",
    "  name TEXT NOT NULL,\n",
    "  age INTEGER,\n",
    "  gender TEXT,\n",
    "  nationality TEXT\n",
    ");\n",
    "\"\"\"\n",
    "\n",
    "execute_query(connection, create_users_table)  "
   ]
  },
  {
   "cell_type": "code",
   "execution_count": 7,
   "id": "through-northwest",
   "metadata": {},
   "outputs": [
    {
     "name": "stdout",
     "output_type": "stream",
     "text": [
      "Query executed successfully\n",
      "Query executed successfully\n",
      "Query executed successfully\n"
     ]
    }
   ],
   "source": [
    "create_posts_table = \"\"\"\n",
    "CREATE TABLE IF NOT EXISTS posts(\n",
    "  id INTEGER PRIMARY KEY AUTOINCREMENT, \n",
    "  title TEXT NOT NULL, \n",
    "  description TEXT NOT NULL, \n",
    "  user_id INTEGER NOT NULL, \n",
    "  FOREIGN KEY (user_id) REFERENCES users (id)\n",
    ");\n",
    "\"\"\"\n",
    "\n",
    "create_comments_table = \"\"\"\n",
    "CREATE TABLE IF NOT EXISTS comments (\n",
    "  id INTEGER PRIMARY KEY AUTOINCREMENT, \n",
    "  text TEXT NOT NULL, \n",
    "  user_id INTEGER NOT NULL, \n",
    "  post_id INTEGER NOT NULL, \n",
    "  FOREIGN KEY (user_id) REFERENCES users (id) FOREIGN KEY (post_id) REFERENCES posts (id)\n",
    ");\n",
    "\"\"\"\n",
    "\n",
    "create_likes_table = \"\"\"\n",
    "CREATE TABLE IF NOT EXISTS likes (\n",
    "  id INTEGER PRIMARY KEY AUTOINCREMENT, \n",
    "  user_id INTEGER NOT NULL, \n",
    "  post_id integer NOT NULL, \n",
    "  FOREIGN KEY (user_id) REFERENCES users (id) FOREIGN KEY (post_id) REFERENCES posts (id)\n",
    ");\n",
    "\"\"\"\n",
    "execute_query(connection, create_posts_table)\n",
    "execute_query(connection, create_comments_table)  \n",
    "execute_query(connection, create_likes_table) "
   ]
  },
  {
   "cell_type": "markdown",
   "id": "threatened-somerset",
   "metadata": {},
   "source": [
    "## Inserting Records\n",
    "\n",
    "To insert records into SQLite database, use the same execute_query() function that used to create tables. \n",
    "\n",
    "First, you have to store your INSERT INTO query in a string. Then, you can pass the connection object and query string to execute_query(). \n",
    "\n",
    "Let’s insert five records into the users table:"
   ]
  },
  {
   "cell_type": "code",
   "execution_count": 8,
   "id": "joined-permission",
   "metadata": {},
   "outputs": [
    {
     "name": "stdout",
     "output_type": "stream",
     "text": [
      "Query executed successfully\n"
     ]
    }
   ],
   "source": [
    "create_users = \"\"\"\n",
    "INSERT INTO\n",
    "  users (name, age, gender, nationality)\n",
    "VALUES\n",
    "  ('James', 25, 'male', 'USA'),\n",
    "  ('Leila', 32, 'female', 'France'),\n",
    "  ('Brigitte', 35, 'female', 'England'),\n",
    "  ('Mike', 40, 'male', 'Denmark'),\n",
    "  ('Elizabeth', 21, 'female', 'Canada');\n",
    "\"\"\"\n",
    "\n",
    "execute_query(connection, create_users)   \n"
   ]
  },
  {
   "cell_type": "code",
   "execution_count": 9,
   "id": "transsexual-reverse",
   "metadata": {},
   "outputs": [
    {
     "name": "stdout",
     "output_type": "stream",
     "text": [
      "Query executed successfully\n"
     ]
    }
   ],
   "source": [
    "create_posts = \"\"\"\n",
    "INSERT INTO\n",
    "  posts (title, description, user_id)\n",
    "VALUES\n",
    "  (\"Happy\", \"I am feeling very happy today\", 1),\n",
    "  (\"Hot Weather\", \"The weather is very hot today\", 2),\n",
    "  (\"Help\", \"I need some help with my work\", 2),\n",
    "  (\"Great News\", \"I am getting married\", 1),\n",
    "  (\"Interesting Game\", \"It was a fantastic game of tennis\", 5),\n",
    "  (\"Party\", \"Anyone up for a late-night party today?\", 3);\n",
    "\"\"\"\n",
    "\n",
    "execute_query(connection, create_posts)  "
   ]
  },
  {
   "cell_type": "markdown",
   "id": "identical-register",
   "metadata": {},
   "source": [
    "It’s important to mention that the user_id column of the posts table is a foreign key that references the id column of the users table. \n",
    "\n",
    "This means that the user_id column must contain a value that already exists in the id column of the users table. If it doesn’t exist, then you’ll see an error."
   ]
  },
  {
   "cell_type": "code",
   "execution_count": 10,
   "id": "complimentary-beginning",
   "metadata": {},
   "outputs": [
    {
     "name": "stdout",
     "output_type": "stream",
     "text": [
      "Query executed successfully\n",
      "Query executed successfully\n"
     ]
    }
   ],
   "source": [
    "create_comments = \"\"\"\n",
    "INSERT INTO\n",
    "  comments (text, user_id, post_id)\n",
    "VALUES\n",
    "  ('Count me in', 1, 6),\n",
    "  ('What sort of help?', 5, 3),\n",
    "  ('Congrats buddy', 2, 4),\n",
    "  ('I was rooting for Nadal though', 4, 5),\n",
    "  ('Help with your thesis?', 2, 3),\n",
    "  ('Many congratulations', 5, 4);\n",
    "\"\"\"\n",
    "\n",
    "create_likes = \"\"\"\n",
    "INSERT INTO\n",
    "  likes (user_id, post_id)\n",
    "VALUES\n",
    "  (1, 6),\n",
    "  (2, 3),\n",
    "  (1, 5),\n",
    "  (5, 4),\n",
    "  (2, 4),\n",
    "  (4, 2),\n",
    "  (3, 6);\n",
    "\"\"\"\n",
    "\n",
    "execute_query(connection, create_comments)\n",
    "execute_query(connection, create_likes)  "
   ]
  },
  {
   "cell_type": "markdown",
   "id": "soviet-opening",
   "metadata": {},
   "source": [
    "## Selecting Records\n",
    "\n",
    "To select records using SQLite, you can again use cursor.execute(). \\\n",
    "However, after you’ve done this, you’ll need to call .fetchall(). This method returns a list of tuples where each tuple is mapped to the corresponding row in the retrieved records.\n",
    "\n",
    "To simplify the process, you can create a function execute_read_query():"
   ]
  },
  {
   "cell_type": "code",
   "execution_count": 11,
   "id": "abandoned-clause",
   "metadata": {},
   "outputs": [],
   "source": [
    "def execute_read_query(connection, query):\n",
    "    cursor = connection.cursor()\n",
    "    result = None\n",
    "    try:\n",
    "        cursor.execute(query)\n",
    "        result = cursor.fetchall()\n",
    "        return result\n",
    "    except Error as e:\n",
    "        print(f\"The error '{e}' occurred\")"
   ]
  },
  {
   "cell_type": "code",
   "execution_count": 13,
   "id": "waiting-baking",
   "metadata": {},
   "outputs": [
    {
     "name": "stdout",
     "output_type": "stream",
     "text": [
      "(1, 'James', 25, 'male', 'USA')\n",
      "(2, 'Leila', 32, 'female', 'France')\n",
      "(3, 'Brigitte', 35, 'female', 'England')\n",
      "(4, 'Mike', 40, 'male', 'Denmark')\n",
      "(5, 'Elizabeth', 21, 'female', 'Canada')\n",
      "(6, 'James', 25, 'male', 'USA')\n",
      "(7, 'Leila', 32, 'female', 'France')\n",
      "(8, 'Brigitte', 35, 'female', 'England')\n",
      "(9, 'Mike', 40, 'male', 'Denmark')\n",
      "(10, 'Elizabeth', 21, 'female', 'Canada')\n"
     ]
    }
   ],
   "source": [
    "select_users = \"SELECT * from users\"\n",
    "users = execute_read_query(connection, select_users)\n",
    "\n",
    "for user in users:\n",
    "    print(user)"
   ]
  },
  {
   "cell_type": "code",
   "execution_count": 14,
   "id": "legendary-criminal",
   "metadata": {},
   "outputs": [
    {
     "name": "stdout",
     "output_type": "stream",
     "text": [
      "(1, 'Happy', 'I am feeling very happy today', 1)\n",
      "(2, 'Hot Weather', 'The weather is very hot today', 2)\n",
      "(3, 'Help', 'I need some help with my work', 2)\n",
      "(4, 'Great News', 'I am getting married', 1)\n",
      "(5, 'Interesting Game', 'It was a fantastic game of tennis', 5)\n",
      "(6, 'Party', 'Anyone up for a late-night party today?', 3)\n",
      "(7, 'Happy', 'I am feeling very happy today', 1)\n",
      "(8, 'Hot Weather', 'The weather is very hot today', 2)\n",
      "(9, 'Help', 'I need some help with my work', 2)\n",
      "(10, 'Great News', 'I am getting married', 1)\n",
      "(11, 'Interesting Game', 'It was a fantastic game of tennis', 5)\n",
      "(12, 'Party', 'Anyone up for a late-night party today?', 3)\n"
     ]
    }
   ],
   "source": [
    "select_posts = \"SELECT * FROM posts\"\n",
    "posts = execute_read_query(connection, select_posts)\n",
    "\n",
    "for post in posts:\n",
    "    print(post)"
   ]
  },
  {
   "cell_type": "code",
   "execution_count": 15,
   "id": "resistant-september",
   "metadata": {},
   "outputs": [
    {
     "name": "stdout",
     "output_type": "stream",
     "text": [
      "(1, 'Happy', 'I am feeling very happy today', 1)\n",
      "(2, 'Hot Weather', 'The weather is very hot today', 2)\n",
      "(3, 'Help', 'I need some help with my work', 2)\n",
      "(4, 'Great News', 'I am getting married', 1)\n",
      "(5, 'Interesting Game', 'It was a fantastic game of tennis', 5)\n",
      "(6, 'Party', 'Anyone up for a late-night party today?', 3)\n",
      "(7, 'Happy', 'I am feeling very happy today', 1)\n",
      "(8, 'Hot Weather', 'The weather is very hot today', 2)\n",
      "(9, 'Help', 'I need some help with my work', 2)\n",
      "(10, 'Great News', 'I am getting married', 1)\n",
      "(11, 'Interesting Game', 'It was a fantastic game of tennis', 5)\n",
      "(12, 'Party', 'Anyone up for a late-night party today?', 3)\n"
     ]
    }
   ],
   "source": [
    "select_likes = \"SELECT * FROM likes\"\n",
    "likes = execute_read_query(connection, select_posts)\n",
    "\n",
    "for like in likes:\n",
    "    print(like)"
   ]
  },
  {
   "cell_type": "code",
   "execution_count": 16,
   "id": "awful-startup",
   "metadata": {},
   "outputs": [
    {
     "name": "stdout",
     "output_type": "stream",
     "text": [
      "(1, 'Count me in', 1, 6)\n",
      "(2, 'What sort of help?', 5, 3)\n",
      "(3, 'Congrats buddy', 2, 4)\n",
      "(4, 'I was rooting for Nadal though', 4, 5)\n",
      "(5, 'Help with your thesis?', 2, 3)\n",
      "(6, 'Many congratulations', 5, 4)\n",
      "(7, 'Count me in', 1, 6)\n",
      "(8, 'What sort of help?', 5, 3)\n",
      "(9, 'Congrats buddy', 2, 4)\n",
      "(10, 'I was rooting for Nadal though', 4, 5)\n",
      "(11, 'Help with your thesis?', 2, 3)\n",
      "(12, 'Many congratulations', 5, 4)\n"
     ]
    }
   ],
   "source": [
    "select_comments = \"SELECT * FROM comments\"\n",
    "comments = execute_read_query(connection, select_comments)\n",
    "\n",
    "for comment in comments:\n",
    "    print(comment)"
   ]
  },
  {
   "cell_type": "markdown",
   "id": "prostate-application",
   "metadata": {},
   "source": [
    "### JOIN\n",
    "You can also execute complex queries involving JOIN operations to retrieve data from two related tables. For instance, the following script returns the user ids and names, along with the description of the posts that these users posted:"
   ]
  },
  {
   "cell_type": "code",
   "execution_count": 17,
   "id": "hourly-destiny",
   "metadata": {},
   "outputs": [
    {
     "name": "stdout",
     "output_type": "stream",
     "text": [
      "(1, 'James', 'I am feeling very happy today')\n",
      "(2, 'Leila', 'The weather is very hot today')\n",
      "(2, 'Leila', 'I need some help with my work')\n",
      "(1, 'James', 'I am getting married')\n",
      "(5, 'Elizabeth', 'It was a fantastic game of tennis')\n",
      "(3, 'Brigitte', 'Anyone up for a late-night party today?')\n",
      "(1, 'James', 'I am feeling very happy today')\n",
      "(2, 'Leila', 'The weather is very hot today')\n",
      "(2, 'Leila', 'I need some help with my work')\n",
      "(1, 'James', 'I am getting married')\n",
      "(5, 'Elizabeth', 'It was a fantastic game of tennis')\n",
      "(3, 'Brigitte', 'Anyone up for a late-night party today?')\n"
     ]
    }
   ],
   "source": [
    "select_users_posts = \"\"\"\n",
    "SELECT\n",
    "  users.id,\n",
    "  users.name,\n",
    "  posts.description\n",
    "FROM\n",
    "  posts\n",
    "  INNER JOIN users ON users.id = posts.user_id\n",
    "\"\"\"\n",
    "\n",
    "users_posts = execute_read_query(connection, select_users_posts)\n",
    "\n",
    "for users_post in users_posts:\n",
    "    print(users_post)"
   ]
  },
  {
   "cell_type": "code",
   "execution_count": 19,
   "id": "younger-rating",
   "metadata": {},
   "outputs": [
    {
     "name": "stdout",
     "output_type": "stream",
     "text": [
      "['id', 'name', 'description']\n"
     ]
    }
   ],
   "source": [
    "cursor = connection.cursor()\n",
    "cursor.execute(select_users_posts)\n",
    "cursor.fetchall()\n",
    "\n",
    "column_names = [description[0] for description in cursor.description]\n",
    "print(column_names)"
   ]
  },
  {
   "cell_type": "code",
   "execution_count": 22,
   "id": "burning-passing",
   "metadata": {},
   "outputs": [
    {
     "name": "stdout",
     "output_type": "stream",
     "text": [
      "['id', 'name', 'description']\n",
      "(1, 'James', 'I am feeling very happy today')\n",
      "(2, 'Leila', 'The weather is very hot today')\n",
      "(2, 'Leila', 'I need some help with my work')\n",
      "(1, 'James', 'I am getting married')\n",
      "(5, 'Elizabeth', 'It was a fantastic game of tennis')\n",
      "(3, 'Brigitte', 'Anyone up for a late-night party today?')\n",
      "(1, 'James', 'I am feeling very happy today')\n",
      "(2, 'Leila', 'The weather is very hot today')\n",
      "(2, 'Leila', 'I need some help with my work')\n",
      "(1, 'James', 'I am getting married')\n",
      "(5, 'Elizabeth', 'It was a fantastic game of tennis')\n",
      "(3, 'Brigitte', 'Anyone up for a late-night party today?')\n"
     ]
    }
   ],
   "source": [
    "print(column_names)\n",
    "for users_post in users_posts:\n",
    "    print(users_post)"
   ]
  },
  {
   "cell_type": "code",
   "execution_count": 25,
   "id": "personal-youth",
   "metadata": {},
   "outputs": [
    {
     "name": "stdout",
     "output_type": "stream",
     "text": [
      "['id', 'name', 'description']\n",
      "(1, 'James', 'I am feeling very happy today')\n",
      "(2, 'Leila', 'The weather is very hot today')\n",
      "(2, 'Leila', 'I need some help with my work')\n",
      "(1, 'James', 'I am getting married')\n",
      "(5, 'Elizabeth', 'It was a fantastic game of tennis')\n",
      "(3, 'Brigitte', 'Anyone up for a late-night party today?')\n",
      "(1, 'James', 'I am feeling very happy today')\n",
      "(2, 'Leila', 'The weather is very hot today')\n",
      "(2, 'Leila', 'I need some help with my work')\n",
      "(1, 'James', 'I am getting married')\n",
      "(5, 'Elizabeth', 'It was a fantastic game of tennis')\n",
      "(3, 'Brigitte', 'Anyone up for a late-night party today?')\n"
     ]
    }
   ],
   "source": [
    "select_users_posts = \"\"\"\n",
    "SELECT\n",
    "  users.id,\n",
    "  users.name,\n",
    "  posts.description\n",
    "FROM\n",
    "  posts\n",
    "  INNER JOIN users ON users.id = posts.user_id\n",
    "\"\"\"\n",
    "\n",
    "users_posts = execute_read_query(connection, select_users_posts)\n",
    "cursor = connection.cursor()\n",
    "cursor.execute(select_users_posts)\n",
    "cursor.fetchall()\n",
    "\n",
    "column_names = [description[0] for description in cursor.description]\n",
    "\n",
    "print(column_names)\n",
    "for users_post in users_posts:\n",
    "    print(users_post)"
   ]
  },
  {
   "cell_type": "markdown",
   "id": "likely-legend",
   "metadata": {},
   "source": [
    "## WHERE\n",
    "Now you’ll execute a SELECT query that returns the post, along with the total number of likes that the post received:\n"
   ]
  },
  {
   "cell_type": "code",
   "execution_count": 26,
   "id": "affected-fellowship",
   "metadata": {},
   "outputs": [
    {
     "name": "stdout",
     "output_type": "stream",
     "text": [
      "('The weather is very hot today', 2)\n",
      "('I need some help with my work', 2)\n",
      "('I am getting married', 4)\n",
      "('It was a fantastic game of tennis', 2)\n",
      "('Anyone up for a late-night party today?', 4)\n"
     ]
    }
   ],
   "source": [
    "select_post_likes = \"\"\"\n",
    "  SELECT\n",
    "  description as Post,\n",
    "  COUNT(likes.id) as Likes\n",
    "FROM\n",
    "  likes,\n",
    "  posts\n",
    "WHERE\n",
    "  posts.id = likes.post_id\n",
    "GROUP BY\n",
    "  likes.post_id\n",
    "\"\"\"\n",
    "\n",
    "post_likes = execute_read_query(connection, select_post_likes)\n",
    "\n",
    "for post_like in post_likes:\n",
    "    print(post_like)"
   ]
  },
  {
   "cell_type": "markdown",
   "id": "surrounded-africa",
   "metadata": {},
   "source": [
    "## Updating Table Records\n",
    "\n",
    "Updating records in SQLite is pretty straightforward. You can again make use of execute_query(). As an example, you can update the description of the post with an id of 2. First, SELECT the description of this post"
   ]
  },
  {
   "cell_type": "code",
   "execution_count": 27,
   "id": "subjective-ethiopia",
   "metadata": {},
   "outputs": [
    {
     "name": "stdout",
     "output_type": "stream",
     "text": [
      "('The weather is very hot today',)\n"
     ]
    }
   ],
   "source": [
    "select_post_description = \"SELECT description FROM posts WHERE id = 2\"\n",
    "\n",
    "post_description = execute_read_query(connection, select_post_description)\n",
    "\n",
    "for description in post_description:\n",
    "    print(description)"
   ]
  },
  {
   "cell_type": "markdown",
   "id": "fourth-recruitment",
   "metadata": {},
   "source": [
    "### The following script updates the description:\n",
    "\n"
   ]
  },
  {
   "cell_type": "code",
   "execution_count": 29,
   "id": "pressed-coating",
   "metadata": {},
   "outputs": [
    {
     "name": "stdout",
     "output_type": "stream",
     "text": [
      "Query executed successfully\n",
      "('The weather has become pleasant now',)\n"
     ]
    }
   ],
   "source": [
    "update_post_description = \"\"\"\n",
    "UPDATE\n",
    "  posts\n",
    "SET\n",
    "  description = \"The weather has become pleasant now\"\n",
    "WHERE\n",
    "  id = 2\n",
    "\"\"\"\n",
    "\n",
    "execute_query(connection, update_post_description)\n",
    "\n",
    "select_post_description = \"SELECT description FROM posts WHERE id = 2\"\n",
    "post_description = execute_read_query(connection, select_post_description)\n",
    "for description in post_description:\n",
    "    print(description)"
   ]
  },
  {
   "cell_type": "markdown",
   "id": "minimal-creek",
   "metadata": {},
   "source": [
    "## Deleting Table Records\n",
    "\n",
    "You can again use execute_query() to delete records from SQLite database. All you have to do is pass the connection object and the string query for the record you want to delete to execute_query(). Then, execute_query() will create a cursor object using the connection and pass the string query to cursor.execute(), which will delete the records.\n",
    "\n",
    "As an example, try to delete the comment with an id of 5:"
   ]
  },
  {
   "cell_type": "code",
   "execution_count": 30,
   "id": "tutorial-edwards",
   "metadata": {},
   "outputs": [
    {
     "name": "stdout",
     "output_type": "stream",
     "text": [
      "Query executed successfully\n"
     ]
    }
   ],
   "source": [
    "delete_comment = \"DELETE FROM comments WHERE id = 5\"\n",
    "execute_query(connection, delete_comment)"
   ]
  },
  {
   "cell_type": "code",
   "execution_count": null,
   "id": "original-marketing",
   "metadata": {},
   "outputs": [],
   "source": []
  }
 ],
 "metadata": {
  "kernelspec": {
   "display_name": "Python 3",
   "language": "python",
   "name": "python3"
  },
  "language_info": {
   "codemirror_mode": {
    "name": "ipython",
    "version": 3
   },
   "file_extension": ".py",
   "mimetype": "text/x-python",
   "name": "python",
   "nbconvert_exporter": "python",
   "pygments_lexer": "ipython3",
   "version": "3.6.9"
  }
 },
 "nbformat": 4,
 "nbformat_minor": 5
}

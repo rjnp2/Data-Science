{
 "cells": [
  {
   "cell_type": "markdown",
   "id": "encouraging-telling",
   "metadata": {},
   "source": [
    "## Time Series in RNN\n",
    "\n",
    "In this tutorial, we will use an RNN with time-series data. Time series is dependent on the previous time, which means past values include significant information that the network can learn. The time series prediction is to estimate the future value of any series, let's say, stock price, temperature, GDP, and many more.\n"
   ]
  },
  {
   "cell_type": "code",
   "execution_count": 44,
   "id": "plain-emperor",
   "metadata": {},
   "outputs": [],
   "source": [
    "import pandas as pd\n",
    "import numpy as np\n",
    "import matplotlib.pyplot as plt\n",
    "from keras.models import Model\n",
    "from keras.layers import Dense, SimpleRNN"
   ]
  },
  {
   "cell_type": "markdown",
   "id": "tight-indianapolis",
   "metadata": {},
   "source": [
    "### Generating sample dataset"
   ]
  },
  {
   "cell_type": "code",
   "execution_count": 86,
   "id": "transsexual-screening",
   "metadata": {},
   "outputs": [
    {
     "data": {
      "text/html": [
       "<div>\n",
       "<style scoped>\n",
       "    .dataframe tbody tr th:only-of-type {\n",
       "        vertical-align: middle;\n",
       "    }\n",
       "\n",
       "    .dataframe tbody tr th {\n",
       "        vertical-align: top;\n",
       "    }\n",
       "\n",
       "    .dataframe thead th {\n",
       "        text-align: right;\n",
       "    }\n",
       "</style>\n",
       "<table border=\"1\" class=\"dataframe\">\n",
       "  <thead>\n",
       "    <tr style=\"text-align: right;\">\n",
       "      <th></th>\n",
       "      <th>0</th>\n",
       "    </tr>\n",
       "  </thead>\n",
       "  <tbody>\n",
       "    <tr>\n",
       "      <th>0</th>\n",
       "      <td>0.536051</td>\n",
       "    </tr>\n",
       "    <tr>\n",
       "      <th>1</th>\n",
       "      <td>1.768857</td>\n",
       "    </tr>\n",
       "    <tr>\n",
       "      <th>2</th>\n",
       "      <td>0.153105</td>\n",
       "    </tr>\n",
       "    <tr>\n",
       "      <th>3</th>\n",
       "      <td>0.666013</td>\n",
       "    </tr>\n",
       "    <tr>\n",
       "      <th>4</th>\n",
       "      <td>1.623605</td>\n",
       "    </tr>\n",
       "  </tbody>\n",
       "</table>\n",
       "</div>"
      ],
      "text/plain": [
       "          0\n",
       "0  0.536051\n",
       "1  1.768857\n",
       "2  0.153105\n",
       "3  0.666013\n",
       "4  1.623605"
      ]
     },
     "execution_count": 86,
     "metadata": {},
     "output_type": "execute_result"
    }
   ],
   "source": [
    "N = 1000    \n",
    "Tp = 800    \n",
    "\n",
    "t=np.arange(0,N)\n",
    "x=np.sin(0.02*t)+2*np.random.rand(N)\n",
    "df = pd.DataFrame(x)\n",
    "df.head()"
   ]
  },
  {
   "cell_type": "code",
   "execution_count": 87,
   "id": "constant-refund",
   "metadata": {},
   "outputs": [
    {
     "data": {
      "text/plain": [
       "Text(0.5, 1.0, 'A time series (generated)')"
      ]
     },
     "execution_count": 87,
     "metadata": {},
     "output_type": "execute_result"
    },
    {
     "data": {
      "image/png": "[encoded data removed]",
      "text/plain": [
       "<Figure size 792x288 with 1 Axes>"
      ]
     },
     "metadata": {
      "needs_background": "light"
     },
     "output_type": "display_data"
    }
   ],
   "source": [
    "# Left plotting diagram  \n",
    "plt.figure(figsize=(11,4))  \n",
    "plt.subplot(121)  \n",
    "plt.plot(df)  \n",
    "plt.title(\"A time series (generated)\", fontsize=14)  "
   ]
  },
  {
   "cell_type": "markdown",
   "id": "corrected-hazard",
   "metadata": {},
   "source": [
    "## Step 1) Create the train and test\n",
    "Firstly, we convert the series into a numpy array; then, we define the windows (the number of time networks will learn from), the number of input, output, and the size of the train set."
   ]
  },
  {
   "cell_type": "code",
   "execution_count": 88,
   "id": "incoming-carter",
   "metadata": {},
   "outputs": [
    {
     "name": "stdout",
     "output_type": "stream",
     "text": [
      "(800, 1) (200, 1)\n"
     ]
    }
   ],
   "source": [
    "values=df.values\n",
    "train,test = values[0:Tp,:], values[Tp:N,:]\n",
    "print(train.shape, test.shape)  "
   ]
  },
  {
   "cell_type": "markdown",
   "id": "ongoing-painting",
   "metadata": {},
   "source": [
    "## Preparing data (reshaping)\n",
    "\n",
    "RNN model requires a step value that contains n number of elements as an input sequence. Here, we define it as a 'step'. This is an important part of RNN so let's see an example:\n",
    "\n",
    "x has the following sequence data. \\\n",
    "x = [1,2,3,4,5,6,7,8,9,10]\n",
    "\n",
    "for step=1, x input  and its y prediction become: \\\n",
    "x  y\\\n",
    "1  2\\\n",
    "2  3\\\n",
    "3  4\\\n",
    "4  5\\\n",
    ".. \\\n",
    "9  10\n",
    "\n",
    "for step=3, x and y contain: \\\n",
    "x          y\\\n",
    "1,2,3   4\\\n",
    "2,3,4   5\\\n",
    "3,4,5   6\\\n",
    "4,5,6   7\\\n",
    "... \\\n",
    "7,8,9   10\n",
    "\n",
    "As you have noticed the sizes of x input and y output become different. We'll fix it by adding step size into the training and test data."
   ]
  },
  {
   "cell_type": "code",
   "execution_count": 89,
   "id": "formed-karma",
   "metadata": {},
   "outputs": [
    {
     "name": "stdout",
     "output_type": "stream",
     "text": [
      "(804,) (204,)\n"
     ]
    }
   ],
   "source": [
    "step = 4\n",
    "# add step elements into train and test\n",
    "test = np.append(test,np.repeat(test[-1,],step))\n",
    "train = np.append(train,np.repeat(train[-1,],step))\n",
    "\n",
    "print(train.shape, test.shape)  "
   ]
  },
  {
   "cell_type": "code",
   "execution_count": 90,
   "id": "desperate-ordinance",
   "metadata": {},
   "outputs": [
    {
     "name": "stdout",
     "output_type": "stream",
     "text": [
      "(800, 4) (800,)\n"
     ]
    }
   ],
   "source": [
    "#Next, we'll convert test and train data into the matrix with step value as it has shown above example.\n",
    "\n",
    "# convert into dataset matrix\n",
    "def convertToMatrix(data, step):\n",
    " X, Y =[], []\n",
    " for i in range(len(data)-step):\n",
    "  d=i+step  \n",
    "  X.append(data[i:d,])\n",
    "  Y.append(data[d,])\n",
    " return np.array(X), np.array(Y)\n",
    "\n",
    "trainX,trainY =convertToMatrix(train,step)\n",
    "testX,testY =convertToMatrix(test,step)\n",
    "\n",
    "print(trainX.shape, trainY.shape)  "
   ]
  },
  {
   "cell_type": "markdown",
   "id": "changed-building",
   "metadata": {},
   "source": [
    "#### Finally, we'll reshape trainX and testX to fit with the Keras model. RNN model requires three-dimensional input data. You can see the shape of testX below.\n"
   ]
  },
  {
   "cell_type": "code",
   "execution_count": 91,
   "id": "visible-minute",
   "metadata": {},
   "outputs": [
    {
     "data": {
      "text/plain": [
       "(800, 1, 4)"
      ]
     },
     "execution_count": 91,
     "metadata": {},
     "output_type": "execute_result"
    }
   ],
   "source": [
    "trainX = np.reshape(trainX, (trainX.shape[0], 1, trainX.shape[1]))\n",
    "testX = np.reshape(testX, (testX.shape[0], 1, testX.shape[1]))\n",
    "trainX.shape"
   ]
  },
  {
   "cell_type": "markdown",
   "id": "hybrid-myanmar",
   "metadata": {},
   "source": [
    "## Building a model with SimpleRNN\n"
   ]
  },
  {
   "cell_type": "code",
   "execution_count": 92,
   "id": "desperate-triumph",
   "metadata": {},
   "outputs": [
    {
     "name": "stdout",
     "output_type": "stream",
     "text": [
      "Model: \"functional_15\"\n",
      "_________________________________________________________________\n",
      "Layer (type)                 Output Shape              Param #   \n",
      "=================================================================\n",
      "input_14 (InputLayer)        [(None, 1, 4)]            0         \n",
      "_________________________________________________________________\n",
      "simple_rnn_6 (SimpleRNN)     (None, 32)                1184      \n",
      "_________________________________________________________________\n",
      "dense_8 (Dense)              (None, 8)                 264       \n",
      "_________________________________________________________________\n",
      "dense_9 (Dense)              (None, 1)                 9         \n",
      "=================================================================\n",
      "Total params: 1,457\n",
      "Trainable params: 1,457\n",
      "Non-trainable params: 0\n",
      "_________________________________________________________________\n"
     ]
    }
   ],
   "source": [
    "inputs = keras.Input(shape=(1, step))\n",
    "x = SimpleRNN(units=32, activation=\"relu\")(inputs)\n",
    "x = Dense(8, activation=\"relu\")(x)\n",
    "x = Dense(1)(x)\n",
    "\n",
    "model = Model(inputs , x)\n",
    "model.summary()\n",
    "\n",
    "model.compile(loss='mean_squared_error', optimizer='rmsprop')"
   ]
  },
  {
   "cell_type": "markdown",
   "id": "subtle-generic",
   "metadata": {},
   "source": [
    "### Predicting and plotting the result\n",
    "\n",
    "We'll fit model with trainX data and predict testX data"
   ]
  },
  {
   "cell_type": "code",
   "execution_count": 93,
   "id": "ethical-midwest",
   "metadata": {},
   "outputs": [],
   "source": [
    "model.fit(trainX,trainY, epochs=1000, batch_size=16, verbose=0)\n",
    "trainPredict = model.predict(trainX)\n",
    "testPredict= model.predict(testX)\n",
    "predicted=np.concatenate((trainPredict,testPredict),axis=0)"
   ]
  },
  {
   "cell_type": "code",
   "execution_count": 94,
   "id": "selected-weight",
   "metadata": {},
   "outputs": [
    {
     "data": {
      "text/plain": [
       "0.2893935227394104"
      ]
     },
     "execution_count": 94,
     "metadata": {},
     "output_type": "execute_result"
    }
   ],
   "source": [
    "model.evaluate(trainX, trainY, verbose=1)"
   ]
  },
  {
   "cell_type": "code",
   "execution_count": 95,
   "id": "three-piano",
   "metadata": {},
   "outputs": [
    {
     "data": {
      "image/png": "[encoded data removed]",
      "text/plain": [
       "<Figure size 432x288 with 1 Axes>"
      ]
     },
     "metadata": {
      "needs_background": "light"
     },
     "output_type": "display_data"
    }
   ],
   "source": [
    "index = df.index.values\n",
    "plt.plot(df)\n",
    "plt.plot(predicted)\n",
    "plt.axvline(df.index[Tp], c=\"r\")\n",
    "plt.show() "
   ]
  },
  {
   "cell_type": "code",
   "execution_count": null,
   "id": "assigned-handling",
   "metadata": {},
   "outputs": [],
   "source": []
  }
 ],
 "metadata": {
  "kernelspec": {
   "display_name": "Python 3",
   "language": "python",
   "name": "python3"
  },
  "language_info": {
   "codemirror_mode": {
    "name": "ipython",
    "version": 3
   },
   "file_extension": ".py",
   "mimetype": "text/x-python",
   "name": "python",
   "nbconvert_exporter": "python",
   "pygments_lexer": "ipython3",
   "version": "3.8.5"
  }
 },
 "nbformat": 4,
 "nbformat_minor": 5
}
